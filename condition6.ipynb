{
  "nbformat": 4,
  "nbformat_minor": 0,
  "metadata": {
    "colab": {
      "name": "Untitled6.ipynb",
      "version": "0.3.2",
      "provenance": [],
      "include_colab_link": true
    },
    "kernelspec": {
      "name": "python3",
      "display_name": "Python 3"
    }
  },
  "cells": [
    {
      "cell_type": "markdown",
      "metadata": {
        "id": "view-in-github",
        "colab_type": "text"
      },
      "source": [
        "[View in Colaboratory](https://colab.research.google.com/github/MONA7584908095/Assignment-1/blob/MONA7584908095/condition6.ipynb)"
      ]
    },
    {
      "metadata": {
        "id": "dKdXyrfvQGqW",
        "colab_type": "code",
        "colab": {
          "base_uri": "https://localhost:8080/",
          "height": 35
        },
        "outputId": "cab59594-bc56-4a4a-d165-f510d84b0355"
      },
      "cell_type": "code",
      "source": [
        "# if..else\n",
        "v1 = 5\n",
        "if v1 == 5:\n",
        "    print (v1)\n",
        "else:\n",
        "    print (\"v1 is not 5\")"
      ],
      "execution_count": 1,
      "outputs": [
        {
          "output_type": "stream",
          "text": [
            "5\n"
          ],
          "name": "stdout"
        }
      ]
    },
    {
      "metadata": {
        "id": "FdozUzoiQX3Y",
        "colab_type": "code",
        "colab": {
          "base_uri": "https://localhost:8080/",
          "height": 35
        },
        "outputId": "c65f97dc-ca1c-4737-d75f-8fe019d26640"
      },
      "cell_type": "code",
      "source": [
        "# if..elif..else\n",
        "s1 = \"Jennifer\"\n",
        "s2 = \"loves\"\n",
        "s3 = \"Python\"\n",
        "if s1 == \"Python\":\n",
        "    print (\"s1 is Python\")\n",
        "elif s2 == \"Jennifer\":\n",
        "    print (\"s2 is Jennifer\")\n",
        "elif s1 == \"loves\":\n",
        "    print (\"s1 is loves\")\n",
        "else:\n",
        "    print (\"Jennifer loves Python!\")"
      ],
      "execution_count": 2,
      "outputs": [
        {
          "output_type": "stream",
          "text": [
            "Jennifer loves Python!\n"
          ],
          "name": "stdout"
        }
      ]
    },
    {
      "metadata": {
        "id": "cgdM49vUQX6g",
        "colab_type": "code",
        "colab": {
          "base_uri": "https://localhost:8080/",
          "height": 35
        },
        "outputId": "f28f7a38-1c95-4606-dee2-0f11b1bf8f9d"
      },
      "cell_type": "code",
      "source": [
        "# One liner\n",
        "v1 = 5\n",
        "x = 10 if v1 == 5 else 13\n",
        "print (x)"
      ],
      "execution_count": 3,
      "outputs": [
        {
          "output_type": "stream",
          "text": [
            "10\n"
          ],
          "name": "stdout"
        }
      ]
    },
    {
      "metadata": {
        "id": "k4EQsMmBQX-I",
        "colab_type": "code",
        "colab": {
          "base_uri": "https://localhost:8080/",
          "height": 270
        },
        "outputId": "b52f14ab-fea2-4a2d-eaf2-958275d2b51f"
      },
      "cell_type": "code",
      "source": [
        "# Let's see the conditionals available\n",
        "v1 = \"Jennifer\"\n",
        "v2 = \"Python\"\n",
        "v3 = 45\n",
        "v4 = 67\n",
        "v5 = 45\n",
        "\n",
        "# Test for equality\n",
        "print (v1 == v2)\n",
        "\n",
        "# Test for greater than and greater than equal\n",
        "print (v4 > v3)\n",
        "print (v5 >= v2)\n",
        "\n",
        "# Test for lesser than and lesser than equal\n",
        "print (v4 < v3)\n",
        "print (v5 <= v2)\n",
        "\n",
        "# Inequality\n",
        "print (v1 != v2)"
      ],
      "execution_count": 4,
      "outputs": [
        {
          "output_type": "stream",
          "text": [
            "False\n",
            "True\n"
          ],
          "name": "stdout"
        },
        {
          "output_type": "error",
          "ename": "TypeError",
          "evalue": "ignored",
          "traceback": [
            "\u001b[0;31m---------------------------------------------------------------------------\u001b[0m",
            "\u001b[0;31mTypeError\u001b[0m                                 Traceback (most recent call last)",
            "\u001b[0;32m<ipython-input-4-28db38ef6803>\u001b[0m in \u001b[0;36m<module>\u001b[0;34m()\u001b[0m\n\u001b[1;32m     10\u001b[0m \u001b[0;31m# Test for greater than and greater than equal\u001b[0m\u001b[0;34m\u001b[0m\u001b[0;34m\u001b[0m\u001b[0m\n\u001b[1;32m     11\u001b[0m \u001b[0mprint\u001b[0m \u001b[0;34m(\u001b[0m\u001b[0mv4\u001b[0m \u001b[0;34m>\u001b[0m \u001b[0mv3\u001b[0m\u001b[0;34m)\u001b[0m\u001b[0;34m\u001b[0m\u001b[0m\n\u001b[0;32m---> 12\u001b[0;31m \u001b[0mprint\u001b[0m \u001b[0;34m(\u001b[0m\u001b[0mv5\u001b[0m \u001b[0;34m>=\u001b[0m \u001b[0mv2\u001b[0m\u001b[0;34m)\u001b[0m\u001b[0;34m\u001b[0m\u001b[0m\n\u001b[0m\u001b[1;32m     13\u001b[0m \u001b[0;34m\u001b[0m\u001b[0m\n\u001b[1;32m     14\u001b[0m \u001b[0;31m# Test for lesser than and lesser than equal\u001b[0m\u001b[0;34m\u001b[0m\u001b[0;34m\u001b[0m\u001b[0m\n",
            "\u001b[0;31mTypeError\u001b[0m: '>=' not supported between instances of 'int' and 'str'"
          ]
        }
      ]
    },
    {
      "metadata": {
        "id": "M6iqWF9dQYBB",
        "colab_type": "code",
        "colab": {
          "base_uri": "https://localhost:8080/",
          "height": 52
        },
        "outputId": "ba141868-dba1-4151-eb87-1daef9612db1"
      },
      "cell_type": "code",
      "source": [
        "# Note:\n",
        "v1 = 45\n",
        "v2 = \"45\"\n",
        "print (v1 == v2) # False\n",
        "print (str(v1) == v2) # True"
      ],
      "execution_count": 5,
      "outputs": [
        {
          "output_type": "stream",
          "text": [
            "False\n",
            "True\n"
          ],
          "name": "stdout"
        }
      ]
    },
    {
      "metadata": {
        "id": "VDTXy39BQYEn",
        "colab_type": "code",
        "colab": {
          "base_uri": "https://localhost:8080/",
          "height": 69
        },
        "outputId": "5a9ccfc7-ea9f-4b9d-fc3b-924eb9907193"
      },
      "cell_type": "code",
      "source": [
        "# Ignore case when comparing two strings\n",
        "s1 = \"Jennifer\"\n",
        "s2 = \"jennifer\"\n",
        "\n",
        "print (s1 == s2) # False\n",
        "print (s1.lower() == s2.lower()) # True\n",
        "# OR\n",
        "print (s1.upper() == s2.upper()) # True"
      ],
      "execution_count": 6,
      "outputs": [
        {
          "output_type": "stream",
          "text": [
            "False\n",
            "True\n",
            "True\n"
          ],
          "name": "stdout"
        }
      ]
    },
    {
      "metadata": {
        "id": "gPgCuwyPQxf3",
        "colab_type": "code",
        "colab": {
          "base_uri": "https://localhost:8080/",
          "height": 52
        },
        "outputId": "9b572a60-e412-4a73-ea01-8abec07a3c81"
      },
      "cell_type": "code",
      "source": [
        "# Checking multiple conditions 'and' and 'or'\n",
        "v1 = \"Jennifer\"\n",
        "v2 = \"Python\"\n",
        "\n",
        "# 'and' -> evaluates true when both conditions are True\n",
        "print (v1 == \"Jennifer\" and v2 == \"Python\")\n",
        "# 'or' -> evaluates true when any one condition is True\n",
        "print (v1 == \"Python\" or v2 == \"Python\")"
      ],
      "execution_count": 7,
      "outputs": [
        {
          "output_type": "stream",
          "text": [
            "True\n",
            "True\n"
          ],
          "name": "stdout"
        }
      ]
    },
    {
      "metadata": {
        "id": "K1Do4gy8QxnO",
        "colab_type": "code",
        "colab": {
          "base_uri": "https://localhost:8080/",
          "height": 35
        },
        "outputId": "523faf0b-471b-4971-b7e6-0d73be05fe54"
      },
      "cell_type": "code",
      "source": [
        "s1 = \"Jennifer\"\n",
        "s2 = \"Python\"\n",
        "\n",
        "print (s1 > s2) # True -> since 'Jennifer' comes lexographically before 'Python'"
      ],
      "execution_count": 8,
      "outputs": [
        {
          "output_type": "stream",
          "text": [
            "False\n"
          ],
          "name": "stdout"
        }
      ]
    },
    {
      "metadata": {
        "id": "L65z-_NeQ13H",
        "colab_type": "code",
        "colab": {
          "base_uri": "https://localhost:8080/",
          "height": 87
        },
        "outputId": "7cebb9cc-992d-4905-e268-b3c4d1ab8c1e"
      },
      "cell_type": "code",
      "source": [
        "# Check whether a value is in a list -> 'in'\n",
        "l1 = [23, 45, 67, \"Jennifer\", \"Python\", 'A']\n",
        "\n",
        "print (23 in l1)\n",
        "print ('A' in l1)\n",
        "print (\"Python\" in l1)\n",
        "print (32 in l1)"
      ],
      "execution_count": 9,
      "outputs": [
        {
          "output_type": "stream",
          "text": [
            "True\n",
            "True\n",
            "True\n",
            "False\n"
          ],
          "name": "stdout"
        }
      ]
    },
    {
      "metadata": {
        "id": "RWpqgIl5Q16n",
        "colab_type": "code",
        "colab": {
          "base_uri": "https://localhost:8080/",
          "height": 35
        },
        "outputId": "418c98dc-cd81-48f4-d526-4424f9cd2946"
      },
      "cell_type": "code",
      "source": [
        "# Putting it together\n",
        "l1 = [23, 1, 'A', \"Jennifer\", 9.34]\n",
        "\n",
        "# This is True, so the other statements are not checked\n",
        "if 23 in l1 and 'B' not in l1: # Note: use of 'not'\n",
        "    print (\"1\")\n",
        "elif 23 >= l1[0]: # True\n",
        "    print (\"2\")\n",
        "elif 2.45 < l1[-1]: # True\n",
        "    print (\"3\")"
      ],
      "execution_count": 10,
      "outputs": [
        {
          "output_type": "stream",
          "text": [
            "1\n"
          ],
          "name": "stdout"
        }
      ]
    },
    {
      "metadata": {
        "id": "TpywWBs4Q7f_",
        "colab_type": "code",
        "colab": {
          "base_uri": "https://localhost:8080/",
          "height": 35
        },
        "outputId": "ed47b94b-b6d3-4478-eb3c-cc8379853587"
      },
      "cell_type": "code",
      "source": [
        "# Checking if list is empty\n",
        "l1 = []\n",
        "l2 = [\"Jennifer\"]\n",
        "\n",
        "if l1:\n",
        "    print (1)\n",
        "elif l2:\n",
        "    print (2)"
      ],
      "execution_count": 11,
      "outputs": [
        {
          "output_type": "stream",
          "text": [
            "2\n"
          ],
          "name": "stdout"
        }
      ]
    }
  ]
}