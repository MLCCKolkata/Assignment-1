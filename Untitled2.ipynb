{
  "nbformat": 4,
  "nbformat_minor": 0,
  "metadata": {
    "colab": {
      "name": "Untitled2.ipynb",
      "version": "0.3.2",
      "provenance": []
    },
    "kernelspec": {
      "name": "python3",
      "display_name": "Python 3"
    }
  },
  "cells": [
    {
      "metadata": {
        "id": "RMYqjM3fK42C",
        "colab_type": "code",
        "colab": {
          "base_uri": "https://localhost:8080/",
          "height": 374
        },
        "outputId": "63f95807-266d-4ac6-917a-ddafbfd11962"
      },
      "cell_type": "code",
      "source": [
        "# The Zen of Python\n",
        "import this"
      ],
      "execution_count": 0,
      "outputs": [
        {
          "output_type": "stream",
          "text": [
            "The Zen of Python, by Tim Peters\n",
            "\n",
            "Beautiful is better than ugly.\n",
            "Explicit is better than implicit.\n",
            "Simple is better than complex.\n",
            "Complex is better than complicated.\n",
            "Flat is better than nested.\n",
            "Sparse is better than dense.\n",
            "Readability counts.\n",
            "Special cases aren't special enough to break the rules.\n",
            "Although practicality beats purity.\n",
            "Errors should never pass silently.\n",
            "Unless explicitly silenced.\n",
            "In the face of ambiguity, refuse the temptation to guess.\n",
            "There should be one-- and preferably only one --obvious way to do it.\n",
            "Although that way may not be obvious at first unless you're Dutch.\n",
            "Now is better than never.\n",
            "Although never is often better than *right* now.\n",
            "If the implementation is hard to explain, it's a bad idea.\n",
            "If the implementation is easy to explain, it may be a good idea.\n",
            "Namespaces are one honking great idea -- let's do more of those!\n"
          ],
          "name": "stdout"
        }
      ]
    },
    {
      "metadata": {
        "id": "0De_ykwDK9Vv",
        "colab_type": "code",
        "colab": {
          "base_uri": "https://localhost:8080/",
          "height": 34
        },
        "outputId": "0c9d3b7d-59ea-4992-b812-fe393f62f3d6"
      },
      "cell_type": "code",
      "source": [
        "# Comments\n",
        "# This is a python tutorial and a single line comment\n",
        "''' This is a multiline comment\n",
        "    pretty awesome!!\n",
        "    Let me introduce you to jennifer!'''"
      ],
      "execution_count": 0,
      "outputs": [
        {
          "output_type": "execute_result",
          "data": {
            "text/plain": [
              "' This is a multiline comment\\n    pretty awesome!!\\n    Let me introduce you to jennifer!'"
            ]
          },
          "metadata": {
            "tags": []
          },
          "execution_count": 2
        }
      ]
    },
    {
      "metadata": {
        "id": "aN-Tp9iAK_8C",
        "colab_type": "code",
        "colab": {}
      },
      "cell_type": "code",
      "source": [
        "# Simple imports\n",
        "import math\n",
        "import random"
      ],
      "execution_count": 0,
      "outputs": []
    },
    {
      "metadata": {
        "id": "ipzew6nNLC4O",
        "colab_type": "code",
        "colab": {}
      },
      "cell_type": "code",
      "source": [
        "# importing specific functions from modules\n",
        "# imports just the factorial function from math\n",
        "from math import factorial\n",
        "\n",
        "# imports all the functions from math\n",
        "from math import *"
      ],
      "execution_count": 0,
      "outputs": []
    },
    {
      "metadata": {
        "id": "F0Ih7uLdLFHW",
        "colab_type": "code",
        "colab": {}
      },
      "cell_type": "code",
      "source": [
        "# Giving aliases\n",
        "# The Module name is alaised\n",
        "import math as m\n",
        "\n",
        "# The function name is alaised\n",
        "from math import factorial as fact"
      ],
      "execution_count": 0,
      "outputs": []
    },
    {
      "metadata": {
        "id": "MCzEeRLZLIhQ",
        "colab_type": "code",
        "colab": {
          "base_uri": "https://localhost:8080/",
          "height": 51
        },
        "outputId": "bf077b54-3c8e-448f-fcca-5bbbd02b4a75"
      },
      "cell_type": "code",
      "source": [
        "# Calling imported functions\n",
        "# If you import the module you have to call the functions from the module\n",
        "import math\n",
        "print (math.factorial(12))\n",
        "\n",
        "# If you import the functions you can call the function as if it is in your program\n",
        "from random import randrange as rg\n",
        "print (rg(23, 1000))"
      ],
      "execution_count": 0,
      "outputs": [
        {
          "output_type": "stream",
          "text": [
            "479001600\n",
            "860\n"
          ],
          "name": "stdout"
        }
      ]
    },
    {
      "metadata": {
        "id": "senls-o8LLxP",
        "colab_type": "code",
        "colab": {}
      },
      "cell_type": "code",
      "source": [
        "# Variables\n",
        "msg = \"Python!\"  # String\n",
        "v2 = 'Python!'   # Also String works same\n",
        "v1 = 2           # Numbers\n",
        "v3 = 3.564       # Floats / Doubles\n",
        "v4 = True        # Boolean (True / False)"
      ],
      "execution_count": 0,
      "outputs": []
    },
    {
      "metadata": {
        "id": "Xt60hODtLOzG",
        "colab_type": "code",
        "colab": {
          "base_uri": "https://localhost:8080/",
          "height": 119
        },
        "outputId": "cc5bc681-9d5b-4bf5-e9f7-3e65146cdcab"
      },
      "cell_type": "code",
      "source": [
        "# print() \n",
        "# automatically adds a newline\n",
        "print (msg)\n",
        "print (v2)\n",
        "print (v1)\n",
        "print (v3)\n",
        "print (v4)\n",
        "print (\"Hello Python!\")"
      ],
      "execution_count": 0,
      "outputs": [
        {
          "output_type": "stream",
          "text": [
            "Python!\n",
            "Python!\n",
            "2\n",
            "3.564\n",
            "True\n",
            "Hello Python!\n"
          ],
          "name": "stdout"
        }
      ]
    },
    {
      "metadata": {
        "id": "QledXmpwLRQp",
        "colab_type": "code",
        "colab": {
          "base_uri": "https://localhost:8080/",
          "height": 68
        },
        "outputId": "da2d6b74-c94c-40fb-ee0b-37fefa7c4b25"
      },
      "cell_type": "code",
      "source": [
        "# Note: Both \" and ' can be used to make strings. And this flexibility allows for the following:\n",
        "msg2 = 'Jennifer said, \"I love Python!\"'\n",
        "msg3 = \"After that Jennifer's Python Interpreter said it back to her!\"\n",
        "msg4 = 'Of Course she used the command `print(\"I love Jennifer\")`'\n",
        "\n",
        "print (msg2)\n",
        "print (msg3)\n",
        "print (msg4)"
      ],
      "execution_count": 0,
      "outputs": [
        {
          "output_type": "stream",
          "text": [
            "Jennifer said, \"I love Python!\"\n",
            "After that Jennifer's Python Interpreter said it back to her!\n",
            "Of Course she used the command `print(\"I love Jennifer\")`\n"
          ],
          "name": "stdout"
        }
      ]
    },
    {
      "metadata": {
        "id": "sRS9zreyLZv5",
        "colab_type": "code",
        "colab": {
          "base_uri": "https://localhost:8080/",
          "height": 34
        },
        "outputId": "c0d368b7-17f9-45bc-b95b-68599561c38e"
      },
      "cell_type": "code",
      "source": [
        "# input()\n",
        "msg = input()"
      ],
      "execution_count": 0,
      "outputs": [
        {
          "output_type": "stream",
          "text": [
            "124567\n"
          ],
          "name": "stdout"
        }
      ]
    },
    {
      "metadata": {
        "id": "hE0_F3dZLfnw",
        "colab_type": "code",
        "colab": {
          "base_uri": "https://localhost:8080/",
          "height": 51
        },
        "outputId": "e33f5781-3289-4bb1-8390-dda5ec117b9f"
      },
      "cell_type": "code",
      "source": [
        "# input() with message\n",
        "msg = input (\"Provide some input: \")\n",
        "print (msg)"
      ],
      "execution_count": 0,
      "outputs": [
        {
          "output_type": "stream",
          "text": [
            "Provide some input: 5248\n",
            "5248\n"
          ],
          "name": "stdout"
        }
      ]
    },
    {
      "metadata": {
        "id": "nqMe_kZJLiBL",
        "colab_type": "code",
        "colab": {
          "base_uri": "https://localhost:8080/",
          "height": 51
        },
        "outputId": "ad9fec0d-8e27-4324-b864-9dfc4c1f17c0"
      },
      "cell_type": "code",
      "source": [
        "# Check for specific input without storing it\n",
        "if input(\"Enter something: \") == \"something\":\n",
        "    print (\"Something something\")\n",
        "else: print (\"Not Something\")"
      ],
      "execution_count": 0,
      "outputs": [
        {
          "output_type": "stream",
          "text": [
            "Enter something: 2548\n",
            "Not Something\n"
          ],
          "name": "stdout"
        }
      ]
    },
    {
      "metadata": {
        "id": "lLjsTa2nL6p6",
        "colab_type": "code",
        "colab": {
          "base_uri": "https://localhost:8080/",
          "height": 85
        },
        "outputId": "4ae5d653-f264-4a4e-81c3-bde95a4a8bc9"
      },
      "cell_type": "code",
      "source": [
        "# Python takes every input as a string\n",
        "# So, if required you can convert to the required type\n",
        "msg = input(\"Enter a number: \")\n",
        "print (type(msg))\n",
        "\n",
        "msg = int(input (\"Enter a number again, if not a number this will throw an error: \"))\n",
        "print (type(msg))"
      ],
      "execution_count": 0,
      "outputs": [
        {
          "output_type": "stream",
          "text": [
            "Enter a number: 258852\n",
            "<class 'str'>\n",
            "Enter a number again, if not a number this will throw an error: 258\n",
            "<class 'int'>\n"
          ],
          "name": "stdout"
        }
      ]
    },
    {
      "metadata": {
        "id": "XFf3Z6MZL_Pe",
        "colab_type": "code",
        "colab": {
          "base_uri": "https://localhost:8080/",
          "height": 340
        },
        "outputId": "724f267c-2e91-49b8-d98d-03bd70a26e40"
      },
      "cell_type": "code",
      "source": [
        "# Basic Arithmetic operations\n",
        "# Add\n",
        "print (3 + 2)\n",
        "print (3.4565 + 56.232)\n",
        "print ('------------')\n",
        "\n",
        "# Subtract\n",
        "print (3 - 4)\n",
        "print (34.56 - 3.78)\n",
        "print ('------------')\n",
        "\n",
        "# Multiply\n",
        "print (4 * 3)\n",
        "print (7.56 * 34)\n",
        "print ('------------')\n",
        "\n",
        "# Division\n",
        "print (5 / 2)\n",
        "print (5.0 / 2)\n",
        "print (5 / 2.0)\n",
        "print (25.0 / 5)\n",
        "print ('------------')\n",
        "\n",
        "# Exponents\n",
        "print (4 ** 4)\n",
        "print (5.67 ** 3)\n",
        "print ('------------')\n",
        "\n",
        "# Modulo\n",
        "print (10%3)\n",
        "print (10%11)"
      ],
      "execution_count": 0,
      "outputs": [
        {
          "output_type": "stream",
          "text": [
            "5\n",
            "59.6885\n",
            "------------\n",
            "-1\n",
            "30.78\n",
            "------------\n",
            "12\n",
            "257.03999999999996\n",
            "------------\n",
            "2.5\n",
            "2.5\n",
            "2.5\n",
            "5.0\n",
            "------------\n",
            "256\n",
            "182.28426299999998\n",
            "------------\n",
            "1\n",
            "10\n"
          ],
          "name": "stdout"
        }
      ]
    },
    {
      "metadata": {
        "id": "MArOl2rqMAb9",
        "colab_type": "code",
        "colab": {}
      },
      "cell_type": "code",
      "source": [
        ""
      ],
      "execution_count": 0,
      "outputs": []
    }
  ]
}