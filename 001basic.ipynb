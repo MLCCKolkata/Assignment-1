{
  "nbformat": 4,
  "nbformat_minor": 0,
  "metadata": {
    "colab": {
      "name": "Untitled3.ipynb",
      "version": "0.3.2",
      "provenance": [],
      "include_colab_link": true
    },
    "kernelspec": {
      "name": "python3",
      "display_name": "Python 3"
    }
  },
  "cells": [
    {
      "cell_type": "markdown",
      "metadata": {
        "id": "view-in-github",
        "colab_type": "text"
      },
      "source": [
        "[View in Colaboratory](https://colab.research.google.com/github/MONA7584908095/Assignment-1/blob/MONA7584908095/001basic.ipynb)"
      ]
    },
    {
      "metadata": {
        "id": "-Rwj525iAYKc",
        "colab_type": "code",
        "colab": {}
      },
      "cell_type": "code",
      "source": [
        "# The Zen of Python\n",
        "import this"
      ],
      "execution_count": 0,
      "outputs": []
    },
    {
      "metadata": {
        "id": "eLSo4Bo6Ahbl",
        "colab_type": "code",
        "colab": {
          "base_uri": "https://localhost:8080/",
          "height": 35
        },
        "outputId": "d7e8a837-9c83-4efa-9fc9-9d890ac0636d"
      },
      "cell_type": "code",
      "source": [
        "# Comments\n",
        "# This is a python tutorial and a single line comment\n",
        "''' This is a multiline comment\n",
        "    pretty awesome!!\n",
        "    Let me introduce you to jennifer!'''"
      ],
      "execution_count": 1,
      "outputs": [
        {
          "output_type": "execute_result",
          "data": {
            "text/plain": [
              "' This is a multiline comment\\n    pretty awesome!!\\n    Let me introduce you to jennifer!'"
            ]
          },
          "metadata": {
            "tags": []
          },
          "execution_count": 1
        }
      ]
    },
    {
      "metadata": {
        "id": "p1G3j0kiAnod",
        "colab_type": "code",
        "colab": {}
      },
      "cell_type": "code",
      "source": [
        "# Simple imports\n",
        "import math\n",
        "import random"
      ],
      "execution_count": 0,
      "outputs": []
    },
    {
      "metadata": {
        "id": "PyhlIJjQAsFn",
        "colab_type": "code",
        "colab": {}
      },
      "cell_type": "code",
      "source": [
        "# importing specific functions from modules\n",
        "# imports just the factorial function from math\n",
        "from math import factorial\n",
        "\n",
        "# imports all the functions from math\n",
        "from math import *"
      ],
      "execution_count": 0,
      "outputs": []
    },
    {
      "metadata": {
        "id": "x7KhDJM6AxUd",
        "colab_type": "code",
        "colab": {}
      },
      "cell_type": "code",
      "source": [
        "# Giving aliases\n",
        "# The Module name is alaised\n",
        "import math as m\n",
        "\n",
        "# The function name is alaised\n",
        "from math import factorial as fact"
      ],
      "execution_count": 0,
      "outputs": []
    },
    {
      "metadata": {
        "id": "MnOj05kfA3l2",
        "colab_type": "code",
        "colab": {
          "base_uri": "https://localhost:8080/",
          "height": 52
        },
        "outputId": "11a86ae2-8c25-439f-a2c9-437f4ab9f726"
      },
      "cell_type": "code",
      "source": [
        "# Calling imported functions\n",
        "# If you import the module you have to call the functions from the module\n",
        "import math\n",
        "print (math.factorial(12))\n",
        "\n",
        "# If you import the functions you can call the function as if it is in your program\n",
        "from random import randrange as rg\n",
        "print (rg(23, 1000))"
      ],
      "execution_count": 6,
      "outputs": [
        {
          "output_type": "stream",
          "text": [
            "479001600\n",
            "962\n"
          ],
          "name": "stdout"
        }
      ]
    },
    {
      "metadata": {
        "id": "x9QHu_b0A5jd",
        "colab_type": "code",
        "colab": {}
      },
      "cell_type": "code",
      "source": [
        "# Variables\n",
        "msg = \"Python!\"  # String\n",
        "v2 = 'Python!'   # Also String works same\n",
        "v1 = 2           # Numbers\n",
        "v3 = 3.564       # Floats / Doubles\n",
        "v4 = True        # Boolean (True / False)"
      ],
      "execution_count": 0,
      "outputs": []
    },
    {
      "metadata": {
        "id": "WIQZBMkMA_w-",
        "colab_type": "code",
        "colab": {
          "base_uri": "https://localhost:8080/",
          "height": 121
        },
        "outputId": "d9a28ea6-1827-4785-ea7b-44a674323228"
      },
      "cell_type": "code",
      "source": [
        "# print() \n",
        "# automatically adds a newline\n",
        "print (msg)\n",
        "print (v2)\n",
        "print (v1)\n",
        "print (v3)\n",
        "print (v4)\n",
        "print (\"Hello Python!\")"
      ],
      "execution_count": 9,
      "outputs": [
        {
          "output_type": "stream",
          "text": [
            "Python!\n",
            "Python!\n",
            "2\n",
            "3.564\n",
            "True\n",
            "Hello Python!\n"
          ],
          "name": "stdout"
        }
      ]
    },
    {
      "metadata": {
        "id": "s8QzrRBeBEL-",
        "colab_type": "code",
        "colab": {
          "base_uri": "https://localhost:8080/",
          "height": 69
        },
        "outputId": "d3cb6890-9f69-4b0f-b5a1-8385c94405e6"
      },
      "cell_type": "code",
      "source": [
        "# Note: Both \" and ' can be used to make strings. And this flexibility allows for the following:\n",
        "msg2 = 'Jennifer said, \"I love Python!\"'\n",
        "msg3 = \"After that Jennifer's Python Interpreter said it back to her!\"\n",
        "msg4 = 'Of Course she used the command `print(\"I love Jennifer\")`'\n",
        "\n",
        "print (msg2)\n",
        "print (msg3)\n",
        "print (msg4)"
      ],
      "execution_count": 10,
      "outputs": [
        {
          "output_type": "stream",
          "text": [
            "Jennifer said, \"I love Python!\"\n",
            "After that Jennifer's Python Interpreter said it back to her!\n",
            "Of Course she used the command `print(\"I love Jennifer\")`\n"
          ],
          "name": "stdout"
        }
      ]
    },
    {
      "metadata": {
        "id": "lq3p01BzBJ-N",
        "colab_type": "code",
        "colab": {
          "base_uri": "https://localhost:8080/",
          "height": 35
        },
        "outputId": "11d6d831-ad12-4958-c93f-490bbb31b391"
      },
      "cell_type": "code",
      "source": [
        "# input()\n",
        "msg = input()"
      ],
      "execution_count": 11,
      "outputs": [
        {
          "output_type": "stream",
          "text": [
            "1245\n"
          ],
          "name": "stdout"
        }
      ]
    },
    {
      "metadata": {
        "id": "TF2_AzoWBPKG",
        "colab_type": "code",
        "colab": {
          "base_uri": "https://localhost:8080/",
          "height": 52
        },
        "outputId": "bd6d76da-0b21-4d11-8b20-c30bf8147521"
      },
      "cell_type": "code",
      "source": [
        "# input() with message\n",
        "msg = input (\"Provide some input: \")\n",
        "print (msg)"
      ],
      "execution_count": 12,
      "outputs": [
        {
          "output_type": "stream",
          "text": [
            "Provide some input: 25874\n",
            "25874\n"
          ],
          "name": "stdout"
        }
      ]
    },
    {
      "metadata": {
        "id": "R-ZLll-LBUIX",
        "colab_type": "code",
        "colab": {
          "base_uri": "https://localhost:8080/",
          "height": 52
        },
        "outputId": "8fb3edbe-c00e-42cc-e50b-275ee58ab209"
      },
      "cell_type": "code",
      "source": [
        "# Check for specific input without storing it\n",
        "if input(\"Enter something: \") == \"something\":\n",
        "    print (\"Something something\")\n",
        "else: print (\"Not Something\")"
      ],
      "execution_count": 13,
      "outputs": [
        {
          "output_type": "stream",
          "text": [
            "Enter something: 2574\n",
            "Not Something\n"
          ],
          "name": "stdout"
        }
      ]
    },
    {
      "metadata": {
        "id": "WcS5CGB9BYxH",
        "colab_type": "code",
        "colab": {
          "base_uri": "https://localhost:8080/",
          "height": 87
        },
        "outputId": "b43aeeaf-8610-458d-b2a8-868a0597fafb"
      },
      "cell_type": "code",
      "source": [
        "# Python takes every input as a string\n",
        "# So, if required you can convert to the required type\n",
        "msg = input(\"Enter a number: \")\n",
        "print (type(msg))\n",
        "\n",
        "msg = int(input (\"Enter a number again, if not a number this will throw an error: \"))\n",
        "print (type(msg))"
      ],
      "execution_count": 14,
      "outputs": [
        {
          "output_type": "stream",
          "text": [
            "Enter a number: 215\n",
            "<class 'str'>\n",
            "Enter a number again, if not a number this will throw an error: 24551\n",
            "<class 'int'>\n"
          ],
          "name": "stdout"
        }
      ]
    },
    {
      "metadata": {
        "id": "QbsvRodCBejl",
        "colab_type": "code",
        "colab": {
          "base_uri": "https://localhost:8080/",
          "height": 347
        },
        "outputId": "b8c441aa-7bb1-4f93-a777-f4ff0bbdf6d3"
      },
      "cell_type": "code",
      "source": [
        "# Basic Arithmetic operations\n",
        "# Add\n",
        "print (3 + 2)\n",
        "print (3.4565 + 56.232)\n",
        "print ('------------')\n",
        "\n",
        "# Subtract\n",
        "print (3 - 4)\n",
        "print (34.56 - 3.78)\n",
        "print ('------------')\n",
        "\n",
        "# Multiply\n",
        "print (4 * 3)\n",
        "print (7.56 * 34)\n",
        "print ('------------')\n",
        "\n",
        "# Division\n",
        "print (5 / 2)\n",
        "print (5.0 / 2)\n",
        "print (5 / 2.0)\n",
        "print (25.0 / 5)\n",
        "print ('------------')\n",
        "\n",
        "# Exponents\n",
        "print (4 ** 4)\n",
        "print (5.67 ** 3)\n",
        "print ('------------')\n",
        "\n",
        "# Modulo\n",
        "print (10%3)\n",
        "print (10%11)"
      ],
      "execution_count": 15,
      "outputs": [
        {
          "output_type": "stream",
          "text": [
            "5\n",
            "59.6885\n",
            "------------\n",
            "-1\n",
            "30.78\n",
            "------------\n",
            "12\n",
            "257.03999999999996\n",
            "------------\n",
            "2.5\n",
            "2.5\n",
            "2.5\n",
            "5.0\n",
            "------------\n",
            "256\n",
            "182.28426299999998\n",
            "------------\n",
            "1\n",
            "10\n"
          ],
          "name": "stdout"
        }
      ]
    }
  ]
}