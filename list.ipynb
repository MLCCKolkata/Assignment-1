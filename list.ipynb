{
  "nbformat": 4,
  "nbformat_minor": 0,
  "metadata": {
    "colab": {
      "name": "Untitled9.ipynb",
      "version": "0.3.2",
      "provenance": [],
      "include_colab_link": true
    },
    "kernelspec": {
      "name": "python3",
      "display_name": "Python 3"
    }
  },
  "cells": [
    {
      "cell_type": "markdown",
      "metadata": {
        "id": "view-in-github",
        "colab_type": "text"
      },
      "source": [
        "[View in Colaboratory](https://colab.research.google.com/github/MONA7584908095/Assignment-1/blob/MONA7584908095/list.ipynb)"
      ]
    },
    {
      "metadata": {
        "id": "6us7ClfETrmZ",
        "colab_type": "code",
        "colab": {
          "base_uri": "https://localhost:8080/",
          "height": 67
        },
        "outputId": "04b3078e-c275-4b42-c531-05ace8470231"
      },
      "cell_type": "code",
      "source": [
        "# Simple Lists\n",
        "names = [\"Jennifer\", \"Python\", \"Scarlett\"]\n",
        "nums  = [1, 2, 3, 4, 5]\n",
        "chars = ['A', 'q', 'E', 'z', 'Y']\n",
        "\n",
        "print (names)\n",
        "print (nums)\n",
        "print (chars)"
      ],
      "execution_count": 1,
      "outputs": [
        {
          "output_type": "stream",
          "text": [
            "['Jennifer', 'Python', 'Scarlett']\n",
            "[1, 2, 3, 4, 5]\n",
            "['A', 'q', 'E', 'z', 'Y']\n"
          ],
          "name": "stdout"
        }
      ]
    },
    {
      "metadata": {
        "id": "_DWn589oTwQe",
        "colab_type": "code",
        "colab": {
          "base_uri": "https://localhost:8080/",
          "height": 35
        },
        "outputId": "257a7718-94e9-4005-d90e-bb60bda47417"
      },
      "cell_type": "code",
      "source": [
        "# Can have multiple data types in one list\n",
        "rand_list = [\"Jennifer\", \"Python\", \"refinneJ\", 'J', '9', 9, 12.90, \"Who\"]\n",
        "print (rand_list)"
      ],
      "execution_count": 2,
      "outputs": [
        {
          "output_type": "stream",
          "text": [
            "['Jennifer', 'Python', 'refinneJ', 'J', '9', 9, 12.9, 'Who']\n"
          ],
          "name": "stdout"
        }
      ]
    },
    {
      "metadata": {
        "id": "vxqgsPW0Tz4W",
        "colab_type": "code",
        "colab": {
          "base_uri": "https://localhost:8080/",
          "height": 70
        },
        "outputId": "9e017b73-52b2-479a-c736-65d243e91009"
      },
      "cell_type": "code",
      "source": [
        "# Accessing elements in a list\n",
        "# O-indexed\n",
        "print (names[2])\n",
        "print (rand_list[3])\n",
        "print (names[0] + \" \" + rand_list[2].title())"
      ],
      "execution_count": 3,
      "outputs": [
        {
          "output_type": "stream",
          "text": [
            "Scarlett\n",
            "J\n",
            "Jennifer Refinnej\n"
          ],
          "name": "stdout"
        }
      ]
    },
    {
      "metadata": {
        "id": "Q-znEFcvT0en",
        "colab_type": "code",
        "colab": {
          "base_uri": "https://localhost:8080/",
          "height": 52
        },
        "outputId": "2510911d-6f4a-4943-c6e9-2c831418d9da"
      },
      "cell_type": "code",
      "source": [
        "# Negetive indexes: Access elements from the end of the list without knowing the size of the list\n",
        "print (rand_list[-1]) # Returns the last element of the list [1st from the end]\n",
        "print (rand_list[-2]) # Returns the 2nd last element\n",
        "# and so on.."
      ],
      "execution_count": 4,
      "outputs": [
        {
          "output_type": "stream",
          "text": [
            "Who\n",
            "12.9\n"
          ],
          "name": "stdout"
        }
      ]
    },
    {
      "metadata": {
        "id": "qtLwGxRLT0jd",
        "colab_type": "code",
        "colab": {
          "base_uri": "https://localhost:8080/",
          "height": 70
        },
        "outputId": "7b0d8a87-7fe6-47c5-94fb-ccf713f877ad"
      },
      "cell_type": "code",
      "source": [
        "# Now here's a question.\n",
        "print (rand_list[-1] + \" is \" + names[2] + \"?\")\n",
        "print (\"A) \" + rand_list[0] + \"'s sister\\tB) \" + names[0] + \"'s Friend\\nC) Not Related to \" + rand_list[-8] + \"\\tD) Nice question but I don't know\")"
      ],
      "execution_count": 5,
      "outputs": [
        {
          "output_type": "stream",
          "text": [
            "Who is Scarlett?\n",
            "A) Jennifer's sister\tB) Jennifer's Friend\n",
            "C) Not Related to Jennifer\tD) Nice question but I don't know\n"
          ],
          "name": "stdout"
        }
      ]
    },
    {
      "metadata": {
        "id": "w7AGK0iCT0nd",
        "colab_type": "code",
        "colab": {
          "base_uri": "https://localhost:8080/",
          "height": 52
        },
        "outputId": "67ca539a-d7e4-45de-f7e5-c3d365e76301"
      },
      "cell_type": "code",
      "source": [
        "# Modifying elements in a list\n",
        "str_list = [\"Scarlett\", \"is\", \"a\", \"nice\", 'girl', '!']\n",
        "\n",
        "print (str_list)\n",
        "str_list[0] = \"Jennifer\"\n",
        "print (str_list)"
      ],
      "execution_count": 6,
      "outputs": [
        {
          "output_type": "stream",
          "text": [
            "['Scarlett', 'is', 'a', 'nice', 'girl', '!']\n",
            "['Jennifer', 'is', 'a', 'nice', 'girl', '!']\n"
          ],
          "name": "stdout"
        }
      ]
    },
    {
      "metadata": {
        "id": "r4v5PFkhT0rt",
        "colab_type": "code",
        "colab": {
          "base_uri": "https://localhost:8080/",
          "height": 35
        },
        "outputId": "3cab2a3c-5a5b-41b4-bc7a-2d1068cc1a87"
      },
      "cell_type": "code",
      "source": [
        "# Adding elements to a list\n",
        "# Use append() to add elements to the end of the list\n",
        "str_list.append ('She is 21.')\n",
        "print (str_list)"
      ],
      "execution_count": 7,
      "outputs": [
        {
          "output_type": "stream",
          "text": [
            "['Jennifer', 'is', 'a', 'nice', 'girl', '!', 'She is 21.']\n"
          ],
          "name": "stdout"
        }
      ]
    },
    {
      "metadata": {
        "id": "4NqTnZwxUcG1",
        "colab_type": "code",
        "colab": {
          "base_uri": "https://localhost:8080/",
          "height": 35
        },
        "outputId": "8483dccc-713e-4af7-daec-44ffdf245a2b"
      },
      "cell_type": "code",
      "source": [
        "# So, you can build lists like this\n",
        "my_list = []\n",
        "my_list.append (\"myname\")\n",
        "my_list.append (\"myage\")\n",
        "my_list.append (\"myaddress\")\n",
        "my_list.append (\"myphn\")\n",
        "my_list.append (\"is\")\n",
        "my_list.append (1234567890)\n",
        "print (my_list)"
      ],
      "execution_count": 8,
      "outputs": [
        {
          "output_type": "stream",
          "text": [
            "['myname', 'myage', 'myaddress', 'myphn', 'is', 1234567890]\n"
          ],
          "name": "stdout"
        }
      ]
    },
    {
      "metadata": {
        "id": "t05tcf_TUcJs",
        "colab_type": "code",
        "colab": {
          "base_uri": "https://localhost:8080/",
          "height": 52
        },
        "outputId": "db0a14ed-0b57-467c-e461-6010126494ed"
      },
      "cell_type": "code",
      "source": [
        "# Insert elements at specific positions of the list\n",
        "# insert(index, element)\n",
        "my_list.insert (0, \"Mr/Miss/Mrs\")\n",
        "print (my_list)\n",
        "\n",
        "my_list.insert(4, \"mybday\")\n",
        "print (my_list)"
      ],
      "execution_count": 9,
      "outputs": [
        {
          "output_type": "stream",
          "text": [
            "['Mr/Miss/Mrs', 'myname', 'myage', 'myaddress', 'myphn', 'is', 1234567890]\n",
            "['Mr/Miss/Mrs', 'myname', 'myage', 'myaddress', 'mybday', 'myphn', 'is', 1234567890]\n"
          ],
          "name": "stdout"
        }
      ]
    },
    {
      "metadata": {
        "id": "jNghZMJKUcMU",
        "colab_type": "code",
        "colab": {
          "base_uri": "https://localhost:8080/",
          "height": 35
        },
        "outputId": "0872352c-f7f0-4b56-a290-276375cbe2c3"
      },
      "cell_type": "code",
      "source": [
        "# Using '-1' to insert at the end doesn't work and inserts element at the 2nd last position.\n",
        "my_list = ['A', 'B', 'C', 'D']\n",
        "my_list.insert (-1, 'E')\n",
        "print (my_list)"
      ],
      "execution_count": 10,
      "outputs": [
        {
          "output_type": "stream",
          "text": [
            "['A', 'B', 'C', 'E', 'D']\n"
          ],
          "name": "stdout"
        }
      ]
    },
    {
      "metadata": {
        "id": "HlluwVknUnTV",
        "colab_type": "code",
        "colab": {
          "base_uri": "https://localhost:8080/",
          "height": 35
        },
        "outputId": "730778f2-7613-4610-ba9a-ab2f156af213"
      },
      "cell_type": "code",
      "source": [
        "# Using '-2' inserts at 3rd last position\n",
        "# In general, use '-n' to insert at 'n+1'th position from end.\n",
        "my_list = ['A', 'B', 'C', 'D']\n",
        "my_list.insert (-2, 'E')\n",
        "print (my_list)"
      ],
      "execution_count": 11,
      "outputs": [
        {
          "output_type": "stream",
          "text": [
            "['A', 'B', 'E', 'C', 'D']\n"
          ],
          "name": "stdout"
        }
      ]
    },
    {
      "metadata": {
        "id": "JYbObdpyUqWW",
        "colab_type": "code",
        "colab": {
          "base_uri": "https://localhost:8080/",
          "height": 52
        },
        "outputId": "fdf1aeb8-0b1e-4492-d843-422be8e1aae6"
      },
      "cell_type": "code",
      "source": [
        "# Insert elements at the end\n",
        "l1 = ['A', 'B', 'C', 'D']\n",
        "l2 = ['A', 'B', 'C', 'D']\n",
        "\n",
        "l1.append('E')\n",
        "l2.insert(len(my_list), 'E')\n",
        "print (l1)\n",
        "print (l2)"
      ],
      "execution_count": 12,
      "outputs": [
        {
          "output_type": "stream",
          "text": [
            "['A', 'B', 'C', 'D', 'E']\n",
            "['A', 'B', 'C', 'D', 'E']\n"
          ],
          "name": "stdout"
        }
      ]
    },
    {
      "metadata": {
        "id": "IIwxDiHpU5e0",
        "colab_type": "code",
        "colab": {
          "base_uri": "https://localhost:8080/",
          "height": 35
        },
        "outputId": "64511bbe-48f4-40c5-b0c0-a7255b1ba446"
      },
      "cell_type": "code",
      "source": [
        "# Length of the list\n",
        "l1 = ['A', 'B', 'C', 'D', 'E']\n",
        "print (len(l1))"
      ],
      "execution_count": 13,
      "outputs": [
        {
          "output_type": "stream",
          "text": [
            "5\n"
          ],
          "name": "stdout"
        }
      ]
    },
    {
      "metadata": {
        "id": "8Yfq2doDU5mA",
        "colab_type": "code",
        "colab": {
          "base_uri": "https://localhost:8080/",
          "height": 70
        },
        "outputId": "7fe88120-fd28-4e2a-e6ea-f51f5594333e"
      },
      "cell_type": "code",
      "source": [
        "# # Removing elements from list\n",
        "# del can remove any element from list as long as you know its index\n",
        "l1 = ['A', 'B', 'C', 'D', 'E']\n",
        "print (l1)\n",
        "\n",
        "del l1[0]\n",
        "print (l1)\n",
        "\n",
        "del l1[-1]\n",
        "print (l1)"
      ],
      "execution_count": 14,
      "outputs": [
        {
          "output_type": "stream",
          "text": [
            "['A', 'B', 'C', 'D', 'E']\n",
            "['B', 'C', 'D', 'E']\n",
            "['B', 'C', 'D']\n"
          ],
          "name": "stdout"
        }
      ]
    },
    {
      "metadata": {
        "id": "mz4k7WsGVBKV",
        "colab_type": "code",
        "colab": {}
      },
      "cell_type": "code",
      "source": [
        "# pop() can remove the last element from list when used without any arguments\n",
        "l1 = ['A', 'B', 'C', 'D', 'E']\n",
        "# pop() returns the last element, so c would store the popped element\n",
        "c = l1.pop()\n",
        "\n",
        "print (l1)\n",
        "print (c) "
      ],
      "execution_count": 0,
      "outputs": []
    },
    {
      "metadata": {
        "id": "pnx8Vd3pVBNl",
        "colab_type": "code",
        "colab": {}
      },
      "cell_type": "code",
      "source": [
        "# pop(n) -> Removes the element at index 'n' and returns it\n",
        "l1 = ['A', 'B', 'C', 'D', 'E']\n",
        "\n",
        "# Removes the element at 0 position and returns it\n",
        "c = l1.pop(0)\n",
        "print (l1)\n",
        "print (c)\n",
        "\n",
        "# Works as expected with negetive indexes\n",
        "c = l1.pop(-1)\n",
        "print (l1)\n",
        "print (c)"
      ],
      "execution_count": 0,
      "outputs": []
    },
    {
      "metadata": {
        "id": "fYbtwRaEVBQm",
        "colab_type": "code",
        "colab": {}
      },
      "cell_type": "code",
      "source": [
        "# Removing an item by value\n",
        "# remove() only removes the first occurence of the value that is specified.\n",
        "q1 = [\"Seriously, \", \"what\", \"happened\", \"to\", \"Jennifer\", \"and\", \"Jennifer\", \"?\"]\n",
        "print (q1)\n",
        "\n",
        "q1.remove (\"Jennifer\")\n",
        "print (q1)\n",
        "\n",
        "n1 = \"and\"\n",
        "q1.remove(n1)\n",
        "print (q1)"
      ],
      "execution_count": 0,
      "outputs": []
    },
    {
      "metadata": {
        "id": "tv28EostVBTX",
        "colab_type": "code",
        "colab": {}
      },
      "cell_type": "code",
      "source": [
        "# Sorting a list\n",
        "# sort() -> sorts list in increasing or decreasing order, *permantantly*\n",
        "# Sorts in alphabetical order\n",
        "l1 = ['E', 'D', 'C', 'B', 'A']\n",
        "l1.sort()\n",
        "print (l1)\n",
        "\n",
        "# Sorts in increasing order\n",
        "l2 = [2, 200, 16, 4, 1, 0, 9.45, 45.67, 90, 12.01, 12.02]\n",
        "l2.sort()\n",
        "print (l2)"
      ],
      "execution_count": 0,
      "outputs": []
    },
    {
      "metadata": {
        "id": "LFD_Ah7_VBVl",
        "colab_type": "code",
        "colab": {}
      },
      "cell_type": "code",
      "source": [
        "# Reverse sorts alphabetical order\n",
        "l1 = ['E', 'D', 'C', 'B', 'A']\n",
        "l1.sort(reverse=True)\n",
        "print (l1)\n",
        "\n",
        "# Sorts in decreasing order\n",
        "l2 = [2, 200, 16, 4, 1, 0, 9.45, 45.67, 90, 12.01, 12.02]\n",
        "l2.sort(reverse=True)\n",
        "print (l2)"
      ],
      "execution_count": 0,
      "outputs": []
    },
    {
      "metadata": {
        "id": "oAlkQ0ODVOcO",
        "colab_type": "code",
        "colab": {}
      },
      "cell_type": "code",
      "source": [
        "# sorted() -> Sorts list in increasing or decreasing order, *temporarily*\n",
        "# Sorts in increasing order\n",
        "l2 = [2, 200, 16, 4, 1, 0, 9.45, 45.67, 90, 12.01, 12.02]\n",
        "print (l2)\n",
        "print (sorted(l2))\n",
        "print (l2)"
      ],
      "execution_count": 0,
      "outputs": []
    },
    {
      "metadata": {
        "id": "JJJw4V5XVOfk",
        "colab_type": "code",
        "colab": {}
      },
      "cell_type": "code",
      "source": [
        "# Sorts in decreasing order\n",
        "l2 = [2, 200, 16, 4, 1, 0, 9.45, 45.67, 90, 12.01, 12.02]\n",
        "print (l2)\n",
        "print (sorted(l2, reverse=True))\n",
        "print (l2)"
      ],
      "execution_count": 0,
      "outputs": []
    },
    {
      "metadata": {
        "id": "wPqvXipbVOjM",
        "colab_type": "code",
        "colab": {}
      },
      "cell_type": "code",
      "source": [
        "# Reverse list\n",
        "l1 = ['E', 'D', 'C', 'B', 'A']\n",
        "l1.reverse()\n",
        "print (l1)"
      ],
      "execution_count": 0,
      "outputs": []
    },
    {
      "metadata": {
        "id": "0FLvBlN6VV_t",
        "colab_type": "code",
        "colab": {}
      },
      "cell_type": "code",
      "source": [
        "# What happens if we directly assign one list to the other instead of using slices\n",
        "l1 = [\"Jennifer\", \"now\", \"wonders\", \"what\", \"happens\", \"if\", \"we\", \"directly\", \"assign.\"]\n",
        "l2 = l1\n",
        "l2.append(\"Both variables point to the same list\")\n",
        "\n",
        "print (l1)\n",
        "print (l2)"
      ],
      "execution_count": 0,
      "outputs": []
    },
    {
      "metadata": {
        "id": "5YMprRhKVOmO",
        "colab_type": "code",
        "colab": {}
      },
      "cell_type": "code",
      "source": [
        ""
      ],
      "execution_count": 0,
      "outputs": []
    }
  ]
}