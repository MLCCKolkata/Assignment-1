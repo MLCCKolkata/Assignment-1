{
  "nbformat": 4,
  "nbformat_minor": 0,
  "metadata": {
    "colab": {
      "name": "Untitled9.ipynb",
      "version": "0.3.2",
      "provenance": [],
      "include_colab_link": true
    },
    "kernelspec": {
      "name": "python3",
      "display_name": "Python 3"
    }
  },
  "cells": [
    {
      "cell_type": "markdown",
      "metadata": {
        "id": "view-in-github",
        "colab_type": "text"
      },
      "source": [
        "[View in Colaboratory](https://colab.research.google.com/github/ASIF8240233397/Assignment-1/blob/master/WEEK1FUNCTIONS9.ipynb)"
      ]
    },
    {
      "metadata": {
        "id": "PsG8_4x5fXqZ",
        "colab_type": "code",
        "colab": {
          "base_uri": "https://localhost:8080/",
          "height": 51
        },
        "outputId": "6517bda3-b217-4d2a-ee43-15585eb5a468"
      },
      "cell_type": "code",
      "source": [
        "# Simple function\n",
        "# Function definition\n",
        "def a_func():\n",
        "    print (\"A Message from the other world!\")\n",
        "\n",
        "# Function Call\n",
        "a_func()\n",
        "a_func()"
      ],
      "execution_count": 1,
      "outputs": [
        {
          "output_type": "stream",
          "text": [
            "A Message from the other world!\n",
            "A Message from the other world!\n"
          ],
          "name": "stdout"
        }
      ]
    },
    {
      "metadata": {
        "id": "r1er6P3_feRY",
        "colab_type": "code",
        "colab": {
          "base_uri": "https://localhost:8080/",
          "height": 51
        },
        "outputId": "da475327-f82d-4d3e-c0b3-d8cf3438baf7"
      },
      "cell_type": "code",
      "source": [
        "# Passing arguments to functions\n",
        "def add_two(num):\n",
        "    print (int(num)+2)\n",
        "\n",
        "add_two (3)\n",
        "add_two (\"45\") # This will work as we are casting the passed parameter to Integer before adding"
      ],
      "execution_count": 2,
      "outputs": [
        {
          "output_type": "stream",
          "text": [
            "5\n",
            "47\n"
          ],
          "name": "stdout"
        }
      ]
    },
    {
      "metadata": {
        "id": "EeJhJqzOfflW",
        "colab_type": "code",
        "colab": {
          "base_uri": "https://localhost:8080/",
          "height": 153
        },
        "outputId": "3b8562d1-d172-4bc2-d12c-8fcf454d67a9"
      },
      "cell_type": "code",
      "source": [
        "# Multiple arguments\n",
        "def add_sub(add_two_to_this, sub_two_from_this):\n",
        "    print (\"Added 2 to : \" + str(add_two_to_this))\n",
        "    print (\"Answer: \" + str(int(add_two_to_this)+2))\n",
        "    \n",
        "    print (\"Subtracted 3 from : \" + str(sub_two_from_this))\n",
        "    print (\"Answer: \" + str(int(sub_two_from_this)-2))\n",
        "    \n",
        "add_sub (45, \"67\")\n",
        "add_sub (\"-156745\", 12131)"
      ],
      "execution_count": 3,
      "outputs": [
        {
          "output_type": "stream",
          "text": [
            "Added 2 to : 45\n",
            "Answer: 47\n",
            "Subtracted 3 from : 67\n",
            "Answer: 65\n",
            "Added 2 to : -156745\n",
            "Answer: -156743\n",
            "Subtracted 3 from : 12131\n",
            "Answer: 12129\n"
          ],
          "name": "stdout"
        }
      ]
    },
    {
      "metadata": {
        "id": "reYwCmpcffnW",
        "colab_type": "code",
        "colab": {
          "base_uri": "https://localhost:8080/",
          "height": 51
        },
        "outputId": "3df0c5c8-4317-4f11-a89d-4536513106bb"
      },
      "cell_type": "code",
      "source": [
        "# Ordering of passed argument matters\n",
        "def coding_in(name, language):\n",
        "    print (str(name) + \" is coding in \" + str(language))\n",
        "    \n",
        "coding_in(\"Jennifer\", \"Python\")\n",
        "# If you change the order, results are unexpected\n",
        "coding_in(\"Python\", \"Jennifer\")"
      ],
      "execution_count": 4,
      "outputs": [
        {
          "output_type": "stream",
          "text": [
            "Jennifer is coding in Python\n",
            "Python is coding in Jennifer\n"
          ],
          "name": "stdout"
        }
      ]
    },
    {
      "metadata": {
        "id": "Li3zeTSZffqO",
        "colab_type": "code",
        "colab": {
          "base_uri": "https://localhost:8080/",
          "height": 51
        },
        "outputId": "2a650cb2-274b-4118-da16-5913c8232b46"
      },
      "cell_type": "code",
      "source": [
        "# Keyword Arguments\n",
        "# Pass the argumnets as key:value pairs, so even if unordered it won't produce unexpected results\n",
        "def coding_in(name, language):\n",
        "    print (str(name) + \" is coding in \" + str(language))\n",
        "    \n",
        "coding_in(name=\"Jennifer\", language=\"Python\")\n",
        "# If you change the order, results are same\n",
        "coding_in(language=\"Python\", name=\"Jennifer\")"
      ],
      "execution_count": 5,
      "outputs": [
        {
          "output_type": "stream",
          "text": [
            "Jennifer is coding in Python\n",
            "Jennifer is coding in Python\n"
          ],
          "name": "stdout"
        }
      ]
    },
    {
      "metadata": {
        "id": "wDu_rmBSffuC",
        "colab_type": "code",
        "colab": {
          "base_uri": "https://localhost:8080/",
          "height": 51
        },
        "outputId": "be330909-312b-496b-98b4-52a1a5ffd31b"
      },
      "cell_type": "code",
      "source": [
        "# Default Values for parameters\n",
        "# Note: If you do not pass arguments required by the function and that argument does not have a default value, \n",
        "#       then python will throw an error\n",
        "def coding_in(name, language=\"Python\"):\n",
        "    print (str(name) + \" is coding in \" + str(language))\n",
        "    \n",
        "coding_in(\"Jennifer\") # Since 2nd argument is not passed, it takes on the default parameter given\n",
        "coding_in(\"Jennifer\", \"R\") # Since 2nd argument is passed, it takes on the passed arguemnt"
      ],
      "execution_count": 6,
      "outputs": [
        {
          "output_type": "stream",
          "text": [
            "Jennifer is coding in Python\n",
            "Jennifer is coding in R\n"
          ],
          "name": "stdout"
        }
      ]
    },
    {
      "metadata": {
        "id": "x1nU7KTGffvZ",
        "colab_type": "code",
        "colab": {
          "base_uri": "https://localhost:8080/",
          "height": 129
        },
        "outputId": "47b7b335-661e-433b-a18e-2445b468960d"
      },
      "cell_type": "code",
      "source": [
        "# Note: You cannot have parameters with no default value after parameters having default value\n",
        "# Following is an error\n",
        "def coding_in(name, language1=\"Python\", language2):\n",
        "    print (str(name) + \" is coding in \" + str(language1) + \" and \" + str(language2))\n",
        "\n",
        "coding_in(\"Jennifer\", \"Python\", \"R\")"
      ],
      "execution_count": 7,
      "outputs": [
        {
          "output_type": "error",
          "ename": "SyntaxError",
          "evalue": "ignored",
          "traceback": [
            "\u001b[0;36m  File \u001b[0;32m\"<ipython-input-7-928958ed3972>\"\u001b[0;36m, line \u001b[0;32m1\u001b[0m\n\u001b[0;31m    def coding_in(name, language1=\"Python\", language2):\u001b[0m\n\u001b[0m                 ^\u001b[0m\n\u001b[0;31mSyntaxError\u001b[0m\u001b[0;31m:\u001b[0m non-default argument follows default argument\n"
          ]
        }
      ]
    },
    {
      "metadata": {
        "id": "3u1xMiO9ffy7",
        "colab_type": "code",
        "colab": {
          "base_uri": "https://localhost:8080/",
          "height": 51
        },
        "outputId": "9deb0598-ebbd-48d4-c842-4b9022d92942"
      },
      "cell_type": "code",
      "source": [
        "# Easy fix to above error is to declare all non-default parameters, \n",
        "# and then start declaring the default parameters\n",
        "# Note: Default parameters can be used to make an argument optional\n",
        "def coding_in(name, language2, language1=\"Python\"):\n",
        "    print (str(name) + \" is coding in \" + str(language1) + \" and \" + str(language2))\n",
        "\n",
        "coding_in(\"Jennifer\", \"Python\", \"R\")\n",
        "coding_in(\"Jennifer\", \"R\")"
      ],
      "execution_count": 8,
      "outputs": [
        {
          "output_type": "stream",
          "text": [
            "Jennifer is coding in R and Python\n",
            "Jennifer is coding in Python and R\n"
          ],
          "name": "stdout"
        }
      ]
    },
    {
      "metadata": {
        "id": "UFMKAa9Ef-vL",
        "colab_type": "code",
        "colab": {
          "base_uri": "https://localhost:8080/",
          "height": 34
        },
        "outputId": "0c494cf0-643c-4710-cd98-28141f1f8977"
      },
      "cell_type": "code",
      "source": [
        "# All parameters can be default\n",
        "def coding_in(name=\"Jennifer\", language1=\"Python\", language2=\"R\"):\n",
        "    print (str(name) + \" is coding in \" + str(language1) + \" and \" + str(language2))\n",
        "\n",
        "coding_in()"
      ],
      "execution_count": 9,
      "outputs": [
        {
          "output_type": "stream",
          "text": [
            "Jennifer is coding in Python and R\n"
          ],
          "name": "stdout"
        }
      ]
    },
    {
      "metadata": {
        "id": "2yhLoHmXf-3R",
        "colab_type": "code",
        "colab": {
          "base_uri": "https://localhost:8080/",
          "height": 51
        },
        "outputId": "7e1ea667-377e-4318-f69f-ee9f83211566"
      },
      "cell_type": "code",
      "source": [
        "# return\n",
        "def pow_4(num):\n",
        "    return num**4\n",
        "\n",
        "v1 = pow_4(34) # v1 now stores 34^4\n",
        "v2 = pow_4(23) # v2 now stores 23^4\n",
        "\n",
        "print (\"34^4 = \" + str(v1))\n",
        "print (\"23^4 = \" + str(v2))"
      ],
      "execution_count": 10,
      "outputs": [
        {
          "output_type": "stream",
          "text": [
            "34^4 = 1336336\n",
            "23^4 = 279841\n"
          ],
          "name": "stdout"
        }
      ]
    },
    {
      "metadata": {
        "id": "qlF9xfi7gE0g",
        "colab_type": "code",
        "colab": {
          "base_uri": "https://localhost:8080/",
          "height": 34
        },
        "outputId": "9fd0aad5-b777-4406-b4ce-4c070d8e127f"
      },
      "cell_type": "code",
      "source": [
        "# can return any data type or object from function\n",
        "def make_a_coder(name, age, language):\n",
        "    d1 = {'name': name, \n",
        "          'age' : age,\n",
        "          'language' : language}\n",
        "    return d1\n",
        "\n",
        "print(make_a_coder(\"Jennifer\", \"21\", \"Python\"))"
      ],
      "execution_count": 11,
      "outputs": [
        {
          "output_type": "stream",
          "text": [
            "{'name': 'Jennifer', 'age': '21', 'language': 'Python'}\n"
          ],
          "name": "stdout"
        }
      ]
    },
    {
      "metadata": {
        "id": "R0JfIzTSgItd",
        "colab_type": "code",
        "colab": {
          "base_uri": "https://localhost:8080/",
          "height": 119
        },
        "outputId": "67a814e3-7aa0-4796-bfb7-476d18a60683"
      },
      "cell_type": "code",
      "source": [
        "# can pass any data type or object to function\n",
        "def make_many_coders(list_of_coders):\n",
        "    print (\"Name    \\tLanguage  \\tAge\")\n",
        "    print (\"========\\t==========\\t===\")\n",
        "    for coder,details in list_of_coders.items():\n",
        "        print (str(coder) + \"\\t\" + str(details[0]) + \"\\t\\t\" + str(details[-1]))\n",
        "    \n",
        "    return str(len(list_of_coders))\n",
        "\n",
        "d1 = {\"Jennifer\": [\"Python\", 21],\n",
        "      \"Scarlett\": [\"R\", 21]}\n",
        "print ('\\n' + make_many_coders(d1) + \" coders found!\")"
      ],
      "execution_count": 12,
      "outputs": [
        {
          "output_type": "stream",
          "text": [
            "Name    \tLanguage  \tAge\n",
            "========\t==========\t===\n",
            "Jennifer\tPython\t\t21\n",
            "Scarlett\tR\t\t21\n",
            "\n",
            "2 coders found!\n"
          ],
          "name": "stdout"
        }
      ]
    },
    {
      "metadata": {
        "id": "7yQHS3zXgNg2",
        "colab_type": "code",
        "colab": {
          "base_uri": "https://localhost:8080/",
          "height": 51
        },
        "outputId": "10ab34e7-1caf-45b0-b87f-d1d106727112"
      },
      "cell_type": "code",
      "source": [
        "# If a list passed to a function is changed inside the function then the change is permanent\n",
        "def make_language_list(language_list, new_language):\n",
        "    language_list.append(new_language)\n",
        "    \n",
        "lang_list = [\"Python\", \"R\"]\n",
        "print (lang_list)\n",
        "\n",
        "make_language_list(lang_list, \"Julia\")\n",
        "print (lang_list)"
      ],
      "execution_count": 13,
      "outputs": [
        {
          "output_type": "stream",
          "text": [
            "['Python', 'R']\n",
            "['Python', 'R', 'Julia']\n"
          ],
          "name": "stdout"
        }
      ]
    },
    {
      "metadata": {
        "id": "kBGFm0CdgNms",
        "colab_type": "code",
        "colab": {
          "base_uri": "https://localhost:8080/",
          "height": 51
        },
        "outputId": "fb31e07d-308c-4be3-f8a3-53a45e5b3b19"
      },
      "cell_type": "code",
      "source": [
        "# Preventing a function from modifying a list\n",
        "def make_language_list(language_list, new_language):\n",
        "    language_list.append(new_language)\n",
        "    \n",
        "lang_list = [\"Python\", \"R\"]\n",
        "print (lang_list)\n",
        "\n",
        "make_language_list(lang_list[:], \"Julia\")\n",
        "print (lang_list)"
      ],
      "execution_count": 14,
      "outputs": [
        {
          "output_type": "stream",
          "text": [
            "['Python', 'R']\n",
            "['Python', 'R']\n"
          ],
          "name": "stdout"
        }
      ]
    },
    {
      "metadata": {
        "id": "a9Qxt6WpgUr0",
        "colab_type": "code",
        "colab": {
          "base_uri": "https://localhost:8080/",
          "height": 51
        },
        "outputId": "8797e76b-6dbc-48c3-d7c4-38ce2a2bba57"
      },
      "cell_type": "code",
      "source": [
        "# Passing Arbitrary number of arguments\n",
        "# The '*' tells Python to make a tuple of whatever number of arguments it receives at that position\n",
        "def languages(*many_languages): \n",
        "    print (many_languages)\n",
        "    \n",
        "languages (\"Python\")\n",
        "languages (\"Python\", \"R\", \"Julia\", \"Ruby\", \"Go\")"
      ],
      "execution_count": 15,
      "outputs": [
        {
          "output_type": "stream",
          "text": [
            "('Python',)\n",
            "('Python', 'R', 'Julia', 'Ruby', 'Go')\n"
          ],
          "name": "stdout"
        }
      ]
    },
    {
      "metadata": {
        "id": "Q-v80_n9gXxc",
        "colab_type": "code",
        "colab": {
          "base_uri": "https://localhost:8080/",
          "height": 51
        },
        "outputId": "dce12d57-80b4-4a29-c389-183440574110"
      },
      "cell_type": "code",
      "source": [
        "# Passing Arbitrary number of arguments with a normal argument\n",
        "# Note: The parameter that accepts arbitrary number of arguments needs to be placed at last\n",
        "def knows_languages(name, *languages):\n",
        "    print (str(name) +  \" knows: \" + str(languages))\n",
        "    \n",
        "knows_languages(\"Jennifer\", \"Python\")\n",
        "knows_languages(\"Jennifer\", \"Python\", \"R\", \"Julia\", \"Ruby\")"
      ],
      "execution_count": 16,
      "outputs": [
        {
          "output_type": "stream",
          "text": [
            "Jennifer knows: ('Python',)\n",
            "Jennifer knows: ('Python', 'R', 'Julia', 'Ruby')\n"
          ],
          "name": "stdout"
        }
      ]
    },
    {
      "metadata": {
        "id": "TfZx8ddEgnf6",
        "colab_type": "text"
      },
      "cell_type": "markdown",
      "source": [
        ""
      ]
    },
    {
      "metadata": {
        "id": "rjilRiZ1goOj",
        "colab_type": "code",
        "colab": {
          "base_uri": "https://localhost:8080/",
          "height": 129
        },
        "outputId": "6891f159-0d08-4c11-ec13-7fa9aaa617ac"
      },
      "cell_type": "code",
      "source": [
        "# Note: You cannot have two or more parameters that accepts arbitrary number of arguments\n",
        "# Hence, following is an error!\n",
        "def knows_languages_and_modules(name, *languages, *modules):\n",
        "    print (str(name) +  \" knows: \" + str(languages))\n",
        "    \n",
        "knows_languages(\"Jennifer\", \"Python\", \"PyGtk\")\n",
        "knows_languages(\"Jennifer\", \"Python\", \"R\", \"Julia\", \"Ruby\", \"PyGtk\", \"PyGame\", \"audioop\")"
      ],
      "execution_count": 17,
      "outputs": [
        {
          "output_type": "error",
          "ename": "SyntaxError",
          "evalue": "ignored",
          "traceback": [
            "\u001b[0;36m  File \u001b[0;32m\"<ipython-input-17-00bda608046d>\"\u001b[0;36m, line \u001b[0;32m1\u001b[0m\n\u001b[0;31m    def knows_languages_and_modules(name, *languages, *modules):\u001b[0m\n\u001b[0m                                                      ^\u001b[0m\n\u001b[0;31mSyntaxError\u001b[0m\u001b[0;31m:\u001b[0m invalid syntax\n"
          ]
        }
      ]
    },
    {
      "metadata": {
        "id": "Aea_MwYHgstl",
        "colab_type": "code",
        "colab": {
          "base_uri": "https://localhost:8080/",
          "height": 51
        },
        "outputId": "d8cb2703-2f41-433c-faf7-b5737b99cd55"
      },
      "cell_type": "code",
      "source": [
        "# Using Arbitrary Keyword Argument\n",
        "# Note: '**' tells Python to create a dictionary of the extra arguments passed after the first required positional argument\n",
        "def make_a_coder(name, **details):\n",
        "    coder = {}\n",
        "    coder[\"name\"] = name;\n",
        "    for key, value in details.items():\n",
        "        coder[key] = value\n",
        "    return coder\n",
        "\n",
        "print (make_a_coder(\"Jennifer\", location=\"California\", age=\"21\", language=(\"Python\", \"R\")))\n",
        "\n",
        "# We can do this since we are using keyword arguments\n",
        "print (make_a_coder(location=\"California\", age=\"21\", language=(\"Python\", \"R\"), name=\"Jennifer\"))"
      ],
      "execution_count": 18,
      "outputs": [
        {
          "output_type": "stream",
          "text": [
            "{'name': 'Jennifer', 'location': 'California', 'age': '21', 'language': ('Python', 'R')}\n",
            "{'name': 'Jennifer', 'location': 'California', 'age': '21', 'language': ('Python', 'R')}\n"
          ],
          "name": "stdout"
        }
      ]
    },
    {
      "metadata": {
        "id": "quiyIR_lgswC",
        "colab_type": "code",
        "colab": {}
      },
      "cell_type": "code",
      "source": [
        ""
      ],
      "execution_count": 0,
      "outputs": []
    },
    {
      "metadata": {
        "id": "khEpYdW8gsx8",
        "colab_type": "code",
        "colab": {}
      },
      "cell_type": "code",
      "source": [
        ""
      ],
      "execution_count": 0,
      "outputs": []
    },
    {
      "metadata": {
        "id": "hrrHF4tBgs1C",
        "colab_type": "code",
        "colab": {}
      },
      "cell_type": "code",
      "source": [
        ""
      ],
      "execution_count": 0,
      "outputs": []
    },
    {
      "metadata": {
        "id": "16o3dUVdgssW",
        "colab_type": "code",
        "colab": {}
      },
      "cell_type": "code",
      "source": [
        ""
      ],
      "execution_count": 0,
      "outputs": []
    }
  ]
}