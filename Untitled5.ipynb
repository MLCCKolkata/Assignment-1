{
  "nbformat": 4,
  "nbformat_minor": 0,
  "metadata": {
    "colab": {
      "name": "Untitled5.ipynb",
      "version": "0.3.2",
      "provenance": [],
      "include_colab_link": true
    },
    "kernelspec": {
      "name": "python3",
      "display_name": "Python 3"
    }
  },
  "cells": [
    {
      "cell_type": "markdown",
      "metadata": {
        "id": "view-in-github",
        "colab_type": "text"
      },
      "source": [
        "[View in Colaboratory](https://colab.research.google.com/github/ASIF8240233397/Assignment-1/blob/ASIF8240233397/Untitled5.ipynb)"
      ]
    },
    {
      "metadata": {
        "id": "3Y0DTuD0V_hg",
        "colab_type": "code",
        "colab": {}
      },
      "cell_type": "code",
      "source": [
        "# Import the string module to get all the in-built helper methods for string\n",
        "import string"
      ],
      "execution_count": 0,
      "outputs": []
    },
    {
      "metadata": {
        "id": "440EE-LdWFfz",
        "colab_type": "code",
        "colab": {
          "base_uri": "https://localhost:8080/",
          "height": 68
        },
        "outputId": "c39aec50-6bdf-497c-ab7c-132b28e65356"
      },
      "cell_type": "code",
      "source": [
        "# Case change of string variables\n",
        "name    = \"jennifEr loves Python\"\n",
        "\n",
        "# Title case\n",
        "name_t  = name.title() \n",
        "print (name_t)\n",
        "\n",
        "# Upper case\n",
        "name_t  = name.upper() \n",
        "print (name_t)\n",
        "\n",
        "# Lower case\n",
        "name_t  = name.lower() \n",
        "print (name_t)"
      ],
      "execution_count": 2,
      "outputs": [
        {
          "output_type": "stream",
          "text": [
            "Jennifer Loves Python\n",
            "JENNIFER LOVES PYTHON\n",
            "jennifer loves python\n"
          ],
          "name": "stdout"
        }
      ]
    },
    {
      "metadata": {
        "id": "druqRLXEWHlP",
        "colab_type": "code",
        "colab": {
          "base_uri": "https://localhost:8080/",
          "height": 68
        },
        "outputId": "24b83eac-970f-486b-811b-8cc8788afebd"
      },
      "cell_type": "code",
      "source": [
        "# String Concatenation\n",
        "fname = \"jennifer\"\n",
        "lname = \"python\"\n",
        "flname = fname + \" \" + lname\n",
        "\n",
        "print (fname + \" \" + lname)\n",
        "print (\"Jennifer\" + \" \" + \"Python\")\n",
        "# OR equivalently\n",
        "print (flname.title())"
      ],
      "execution_count": 3,
      "outputs": [
        {
          "output_type": "stream",
          "text": [
            "jennifer python\n",
            "Jennifer Python\n",
            "Jennifer Python\n"
          ],
          "name": "stdout"
        }
      ]
    },
    {
      "metadata": {
        "id": "p16MKRFJWbZA",
        "colab_type": "code",
        "colab": {
          "base_uri": "https://localhost:8080/",
          "height": 119
        },
        "outputId": "ea1b279f-5d07-4d44-f4ac-ea84351216cd"
      },
      "cell_type": "code",
      "source": [
        "# Adding WhiteSpaces\n",
        "print (\"Jen\\nloves\\npython\")\n",
        "print (\"Jen\\tloves\\tpython\")\n",
        "print (\"Jen\\tloves\\npython\")"
      ],
      "execution_count": 4,
      "outputs": [
        {
          "output_type": "stream",
          "text": [
            "Jen\n",
            "loves\n",
            "python\n",
            "Jen\tloves\tpython\n",
            "Jen\tloves\n",
            "python\n"
          ],
          "name": "stdout"
        }
      ]
    },
    {
      "metadata": {
        "id": "I752ZTRoWd-Q",
        "colab_type": "code",
        "colab": {
          "base_uri": "https://localhost:8080/",
          "height": 136
        },
        "outputId": "c46b272c-16ab-4b1b-e664-c9e8d100af59"
      },
      "cell_type": "code",
      "source": [
        "# Stripping Whitespace\n",
        "name1 = \"    Jennifer\"\n",
        "name2 = \"Jennifer    \"\n",
        "name3 = \"  Jennifer  \"\n",
        "\n",
        "print (name1)\n",
        "print (name2)\n",
        "print (name3)\n",
        "print (\"----------\")\n",
        "print (name1.lstrip()) # lstrip() takes all extra whitespaces from left\n",
        "print (name2.rstrip()) # rstrip() takes all extra whitespaces from right\n",
        "print (name3.strip())  # strip() takes all extra whitespaces from both left and right"
      ],
      "execution_count": 5,
      "outputs": [
        {
          "output_type": "stream",
          "text": [
            "    Jennifer\n",
            "Jennifer    \n",
            "  Jennifer  \n",
            "----------\n",
            "Jennifer\n",
            "Jennifer\n",
            "Jennifer\n"
          ],
          "name": "stdout"
        }
      ]
    },
    {
      "metadata": {
        "id": "HPgA0SW2WhEx",
        "colab_type": "code",
        "colab": {
          "base_uri": "https://localhost:8080/",
          "height": 34
        },
        "outputId": "ed0f3f69-3d12-43c7-ca0a-761cabc669bc"
      },
      "cell_type": "code",
      "source": [
        "# str() -> casts other data types to string\n",
        "jensage = 21\n",
        "# print (\"Jennifer's age is \" + jensage) ## This is an error as one cannot concatenate string and integer\n",
        "print (\"Jennifer's age is \" + str(jensage)) # This works!"
      ],
      "execution_count": 6,
      "outputs": [
        {
          "output_type": "stream",
          "text": [
            "Jennifer's age is 21\n"
          ],
          "name": "stdout"
        }
      ]
    },
    {
      "metadata": {
        "id": "XAzLWUr-WlNq",
        "colab_type": "code",
        "colab": {
          "base_uri": "https://localhost:8080/",
          "height": 68
        },
        "outputId": "85f622be-a3b8-4e6e-d0c3-7f9a1189da30"
      },
      "cell_type": "code",
      "source": [
        "# Lists, Dictionaries, Tuples and other objects can be casted to String\n",
        "l_langs = [\"Python\", \"R\", \"Julia\"] # List\n",
        "t_langs = (\"Python\", \"R\", \"Julia\") # Tuple\n",
        "d_langs = {1: \"Python\", 2: \"R\", 3: \"Julia\"} # Dictionary\n",
        "\n",
        "print (\"This is a list: \"       + str(l_langs))\n",
        "print (\"This is a tuple: \"      + str(t_langs))\n",
        "print (\"This is a dictionary: \" + str(d_langs))"
      ],
      "execution_count": 7,
      "outputs": [
        {
          "output_type": "stream",
          "text": [
            "This is a list: ['Python', 'R', 'Julia']\n",
            "This is a tuple: ('Python', 'R', 'Julia')\n",
            "This is a dictionary: {1: 'Python', 2: 'R', 3: 'Julia'}\n"
          ],
          "name": "stdout"
        }
      ]
    },
    {
      "metadata": {
        "id": "s1vP3tKTWr09",
        "colab_type": "code",
        "colab": {
          "base_uri": "https://localhost:8080/",
          "height": 204
        },
        "outputId": "c4ea5cb0-4a43-4035-9822-5c3babfb8a81"
      },
      "cell_type": "code",
      "source": [
        "# Some helpful constants built-in the string module\n",
        "print (\"All Letters:   \" + string.ascii_letters)\n",
        "print (\"Lowecase:      \" + string.ascii_lowercase)\n",
        "print (\"Uppercase:     \" + string.ascii_uppercase)\n",
        "print (\"Punctuations:  \" + string.punctuation)\n",
        "print (\"Numbers:       \" + string.digits)\n",
        "print (\"Hex Digits:    \" + string.hexdigits)\n",
        "print (\"Oct Digits:    \" + string.octdigits)\n",
        "print (\"Whitespace:    \" + string.whitespace)\n",
        "print (\"Printable:     \" + string.printable)"
      ],
      "execution_count": 8,
      "outputs": [
        {
          "output_type": "stream",
          "text": [
            "All Letters:   abcdefghijklmnopqrstuvwxyzABCDEFGHIJKLMNOPQRSTUVWXYZ\n",
            "Lowecase:      abcdefghijklmnopqrstuvwxyz\n",
            "Uppercase:     ABCDEFGHIJKLMNOPQRSTUVWXYZ\n",
            "Punctuations:  !\"#$%&'()*+,-./:;<=>?@[\\]^_`{|}~\n",
            "Numbers:       0123456789\n",
            "Hex Digits:    0123456789abcdefABCDEF\n",
            "Oct Digits:    01234567\n",
            "Whitespace:     \t\n",
            "\r\u000b\f\n",
            "Printable:     0123456789abcdefghijklmnopqrstuvwxyzABCDEFGHIJKLMNOPQRSTUVWXYZ!\"#$%&'()*+,-./:;<=>?@[\\]^_`{|}~ \t\n",
            "\r\u000b\f\n"
          ],
          "name": "stdout"
        }
      ]
    }
  ]
}