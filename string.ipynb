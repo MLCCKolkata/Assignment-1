{
  "nbformat": 4,
  "nbformat_minor": 0,
  "metadata": {
    "colab": {
      "name": "Untitled8.ipynb",
      "version": "0.3.2",
      "provenance": [],
      "include_colab_link": true
    },
    "kernelspec": {
      "name": "python3",
      "display_name": "Python 3"
    }
  },
  "cells": [
    {
      "cell_type": "markdown",
      "metadata": {
        "id": "view-in-github",
        "colab_type": "text"
      },
      "source": [
        "[View in Colaboratory](https://colab.research.google.com/github/MONA7584908095/Assignment-1/blob/MONA7584908095/string.ipynb)"
      ]
    },
    {
      "metadata": {
        "id": "NVXNM0PHSwxc",
        "colab_type": "code",
        "colab": {}
      },
      "cell_type": "code",
      "source": [
        "# Import the string module to get all the in-built helper methods for string\n",
        "import string"
      ],
      "execution_count": 0,
      "outputs": []
    },
    {
      "metadata": {
        "id": "DM6YE0rPSxei",
        "colab_type": "code",
        "colab": {
          "base_uri": "https://localhost:8080/",
          "height": 69
        },
        "outputId": "7ffeb3f1-88af-4f4f-a98c-8d574484f6fb"
      },
      "cell_type": "code",
      "source": [
        "# Case change of string variables\n",
        "name    = \"jennifEr loves Python\"\n",
        "\n",
        "# Title case\n",
        "name_t  = name.title() \n",
        "print (name_t)\n",
        "\n",
        "# Upper case\n",
        "name_t  = name.upper() \n",
        "print (name_t)\n",
        "\n",
        "# Lower case\n",
        "name_t  = name.lower() \n",
        "print (name_t)"
      ],
      "execution_count": 4,
      "outputs": [
        {
          "output_type": "stream",
          "text": [
            "Jennifer Loves Python\n",
            "JENNIFER LOVES PYTHON\n",
            "jennifer loves python\n"
          ],
          "name": "stdout"
        }
      ]
    },
    {
      "metadata": {
        "id": "YQCRtP2tSxk9",
        "colab_type": "code",
        "colab": {
          "base_uri": "https://localhost:8080/",
          "height": 69
        },
        "outputId": "24ef8c8e-86cf-41fe-b005-dede344b513c"
      },
      "cell_type": "code",
      "source": [
        "# String Concatenation\n",
        "fname = \"jennifer\"\n",
        "lname = \"python\"\n",
        "flname = fname + \" \" + lname\n",
        "\n",
        "print (fname + \" \" + lname)\n",
        "print (\"Jennifer\" + \" \" + \"Python\")\n",
        "# OR equivalently\n",
        "print (flname.title())"
      ],
      "execution_count": 5,
      "outputs": [
        {
          "output_type": "stream",
          "text": [
            "jennifer python\n",
            "Jennifer Python\n",
            "Jennifer Python\n"
          ],
          "name": "stdout"
        }
      ]
    },
    {
      "metadata": {
        "id": "hf6wqXesSxpP",
        "colab_type": "code",
        "colab": {
          "base_uri": "https://localhost:8080/",
          "height": 121
        },
        "outputId": "a98722d2-a0a4-4d79-fb54-72823e861650"
      },
      "cell_type": "code",
      "source": [
        "# Adding WhiteSpaces\n",
        "print (\"Jen\\nloves\\npython\")\n",
        "print (\"Jen\\tloves\\tpython\")\n",
        "print (\"Jen\\tloves\\npython\")"
      ],
      "execution_count": 6,
      "outputs": [
        {
          "output_type": "stream",
          "text": [
            "Jen\n",
            "loves\n",
            "python\n",
            "Jen\tloves\tpython\n",
            "Jen\tloves\n",
            "python\n"
          ],
          "name": "stdout"
        }
      ]
    },
    {
      "metadata": {
        "id": "g2oco9U5Sxtd",
        "colab_type": "code",
        "colab": {
          "base_uri": "https://localhost:8080/",
          "height": 69
        },
        "outputId": "7921dd2c-eb60-422f-95eb-b96d2c89eb69"
      },
      "cell_type": "code",
      "source": [
        "# Lists, Dictionaries, Tuples and other objects can be casted to String\n",
        "l_langs = [\"Python\", \"R\", \"Julia\"] # List\n",
        "t_langs = (\"Python\", \"R\", \"Julia\") # Tuple\n",
        "d_langs = {1: \"Python\", 2: \"R\", 3: \"Julia\"} # Dictionary\n",
        "\n",
        "print (\"This is a list: \"       + str(l_langs))\n",
        "print (\"This is a tuple: \"      + str(t_langs))\n",
        "print (\"This is a dictionary: \" + str(d_langs))"
      ],
      "execution_count": 7,
      "outputs": [
        {
          "output_type": "stream",
          "text": [
            "This is a list: ['Python', 'R', 'Julia']\n",
            "This is a tuple: ('Python', 'R', 'Julia')\n",
            "This is a dictionary: {1: 'Python', 2: 'R', 3: 'Julia'}\n"
          ],
          "name": "stdout"
        }
      ]
    },
    {
      "metadata": {
        "id": "gHlgZE7oSxvu",
        "colab_type": "code",
        "colab": {
          "base_uri": "https://localhost:8080/",
          "height": 35
        },
        "outputId": "dc255914-a49a-4259-baaf-e66d9bdeb14e"
      },
      "cell_type": "code",
      "source": [
        "# str() -> casts other data types to string\n",
        "jensage = 21\n",
        "# print (\"Jennifer's age is \" + jensage) ## This is an error as one cannot concatenate string and integer\n",
        "print (\"Jennifer's age is \" + str(jensage)) # This works!"
      ],
      "execution_count": 8,
      "outputs": [
        {
          "output_type": "stream",
          "text": [
            "Jennifer's age is 21\n"
          ],
          "name": "stdout"
        }
      ]
    },
    {
      "metadata": {
        "id": "_qAu4GCfSxxe",
        "colab_type": "code",
        "colab": {}
      },
      "cell_type": "code",
      "source": [
        ""
      ],
      "execution_count": 0,
      "outputs": []
    },
    {
      "metadata": {
        "id": "XeirsfkZSxzu",
        "colab_type": "code",
        "colab": {}
      },
      "cell_type": "code",
      "source": [
        ""
      ],
      "execution_count": 0,
      "outputs": []
    },
    {
      "metadata": {
        "id": "0hVVGnEKSx39",
        "colab_type": "code",
        "colab": {}
      },
      "cell_type": "code",
      "source": [
        ""
      ],
      "execution_count": 0,
      "outputs": []
    }
  ]
}