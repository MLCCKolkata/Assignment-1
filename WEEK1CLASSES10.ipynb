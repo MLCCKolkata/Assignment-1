{
  "nbformat": 4,
  "nbformat_minor": 0,
  "metadata": {
    "colab": {
      "name": "Untitled10.ipynb",
      "version": "0.3.2",
      "provenance": [],
      "include_colab_link": true
    },
    "kernelspec": {
      "name": "python3",
      "display_name": "Python 3"
    }
  },
  "cells": [
    {
      "cell_type": "markdown",
      "metadata": {
        "id": "view-in-github",
        "colab_type": "text"
      },
      "source": [
        "[View in Colaboratory](https://colab.research.google.com/github/ASIF8240233397/Assignment-1/blob/ASIF8240233397/WEEK1CLASSES10.ipynb)"
      ]
    },
    {
      "metadata": {
        "id": "pcVaggGtho5O",
        "colab_type": "code",
        "colab": {}
      },
      "cell_type": "code",
      "source": [
        "# Simple class\n",
        "class Programmer():\n",
        "    \"\"\"This is called a docstring. This class is to create a Programmer. \n",
        "       Functions inside a class is called a method.\n",
        "       Methods are automatically passed the 'self' argument. \n",
        "       Any variable prefixed with 'self.' is available to the class.\n",
        "       We will also be able to access this self prefixed variables from any instance of the class.\"\"\"\n",
        "    \n",
        "    def __init__(self, name, age, *known_languages):\n",
        "        \"\"\"__init__ is a special method that Python automatically calls \n",
        "           when a new instance of the class is created. \"\"\"\n",
        "        self.name = name\n",
        "        self.age = age\n",
        "        self.languages = set(known_languages)\n",
        "        \n",
        "        # Default value for a class variable\n",
        "        self.concepts_revised = 0\n",
        "        \n",
        "    def add_new_language(self, lang):\n",
        "        self.languages.add(lang)\n",
        "        print (str(self.name) + \" knows a new language : \" + str(lang) + \" !!\")\n",
        "        \n",
        "    def revise_concept(self, concept):\n",
        "        self.concepts_revised += 1\n",
        "        print (str(self.name) + \" just revised \" + str(concept) + \" !!\")\n",
        "    \n",
        "    def languages_known(self):\n",
        "        return list(self.languages)\n",
        "        \n",
        "    def cv(self):\n",
        "        print (\"Name   : \" + str(self.name))\n",
        "        print (\"Age    : \" + str(self.age))\n",
        "        print (\"Skills : \" + str(self.languages))"
      ],
      "execution_count": 0,
      "outputs": []
    },
    {
      "metadata": {
        "id": "krDSg0mfhwJG",
        "colab_type": "code",
        "colab": {}
      },
      "cell_type": "code",
      "source": [
        "# Creating an instance of the class\n",
        "# This calls the __init__() method\n",
        "a_programmer = Programmer(\"Jennifer\", 21, \"Python\", \"R\", \"Julia\")"
      ],
      "execution_count": 0,
      "outputs": []
    },
    {
      "metadata": {
        "id": "YlvtJsOmh03j",
        "colab_type": "code",
        "colab": {
          "base_uri": "https://localhost:8080/",
          "height": 68
        },
        "outputId": "58a4d38c-fd51-4758-930d-c7a3c5cdc4e3"
      },
      "cell_type": "code",
      "source": [
        "# Accessing the attributes\n",
        "print (a_programmer.name.title())\n",
        "print (a_programmer.age)\n",
        "print (a_programmer.languages)"
      ],
      "execution_count": 5,
      "outputs": [
        {
          "output_type": "stream",
          "text": [
            "Jennifer\n",
            "21\n",
            "{'Julia', 'R', 'Python'}\n"
          ],
          "name": "stdout"
        }
      ]
    },
    {
      "metadata": {
        "id": "h0PN4sxSh3dQ",
        "colab_type": "code",
        "colab": {
          "base_uri": "https://localhost:8080/",
          "height": 153
        },
        "outputId": "726c38b6-76f1-4ebe-bf8e-30801d7e286e"
      },
      "cell_type": "code",
      "source": [
        "# Calling Methods\n",
        "a_programmer.add_new_language(\"Ruby\")\n",
        "print (a_programmer.languages)\n",
        "\n",
        "print (\"\\nCV for \" + str(a_programmer.name.title()) + \"\\n=================\")\n",
        "a_programmer.cv()"
      ],
      "execution_count": 6,
      "outputs": [
        {
          "output_type": "stream",
          "text": [
            "Jennifer knows a new language : Ruby !!\n",
            "{'Julia', 'R', 'Ruby', 'Python'}\n",
            "\n",
            "CV for Jennifer\n",
            "=================\n",
            "Name   : Jennifer\n",
            "Age    : 21\n",
            "Skills : {'Julia', 'R', 'Ruby', 'Python'}\n"
          ],
          "name": "stdout"
        }
      ]
    },
    {
      "metadata": {
        "id": "-MMxV19Vh8iY",
        "colab_type": "code",
        "colab": {
          "base_uri": "https://localhost:8080/",
          "height": 221
        },
        "outputId": "afcc68f3-d4f1-4573-8069-3edafb963f2f"
      },
      "cell_type": "code",
      "source": [
        "# Creating multiple instances\n",
        "b_programmer = Programmer (\"Scarlett\", 21, \"Python\", \"Julia\", \"SPLUS\", \"Ruby\")\n",
        "c_programmer = Programmer (\"Ariel\", 20, \"C++\", \"Java\", \"Python\")\n",
        "\n",
        "print (\"\\nCV for \" + str(b_programmer.name.title()) + \"\\n=================\")\n",
        "b_programmer.cv()\n",
        "\n",
        "print (\"\\nCV for \" + str(c_programmer.name.title()) + \"\\n=================\")\n",
        "c_programmer.cv()"
      ],
      "execution_count": 7,
      "outputs": [
        {
          "output_type": "stream",
          "text": [
            "\n",
            "CV for Scarlett\n",
            "=================\n",
            "Name   : Scarlett\n",
            "Age    : 21\n",
            "Skills : {'Julia', 'Ruby', 'SPLUS', 'Python'}\n",
            "\n",
            "CV for Ariel\n",
            "=================\n",
            "Name   : Ariel\n",
            "Age    : 20\n",
            "Skills : {'C++', 'Java', 'Python'}\n"
          ],
          "name": "stdout"
        }
      ]
    },
    {
      "metadata": {
        "id": "4qhvzn5Mh8lQ",
        "colab_type": "code",
        "colab": {
          "base_uri": "https://localhost:8080/",
          "height": 51
        },
        "outputId": "63bff6ab-1d35-4b7d-95d6-a76a192abe9a"
      },
      "cell_type": "code",
      "source": [
        "# Directly modifying Attribute's value\n",
        "print (\"Concepts Revised by \" + str(b_programmer.name.title()) + \" : \" + str(b_programmer.concepts_revised))\n",
        "b_programmer.concepts_revised += 10\n",
        "print (\"Concepts Revised by \" + str(b_programmer.name.title()) + \" : \" + str(b_programmer.concepts_revised))"
      ],
      "execution_count": 8,
      "outputs": [
        {
          "output_type": "stream",
          "text": [
            "Concepts Revised by Scarlett : 0\n",
            "Concepts Revised by Scarlett : 10\n"
          ],
          "name": "stdout"
        }
      ]
    },
    {
      "metadata": {
        "id": "wrAI-tjuh8p9",
        "colab_type": "code",
        "colab": {
          "base_uri": "https://localhost:8080/",
          "height": 119
        },
        "outputId": "697a9905-4162-40f3-d683-eab73ba454ce"
      },
      "cell_type": "code",
      "source": [
        "# Modifying Attribute's value through a method\n",
        "print (\"\\nConcepts Revised by \" + str(c_programmer.name.title()) + \" : \" + str(c_programmer.concepts_revised))\n",
        "c_programmer.revise_concept(\"Python Lists\")\n",
        "c_programmer.revise_concept(\"Python Tuples\")\n",
        "c_programmer.revise_concept(\"Python Dictionaries\")\n",
        "print (\"Concepts Revised by \" + str(c_programmer.name.title()) + \" : \" + str(c_programmer.concepts_revised))"
      ],
      "execution_count": 9,
      "outputs": [
        {
          "output_type": "stream",
          "text": [
            "\n",
            "Concepts Revised by Ariel : 0\n",
            "Ariel just revised Python Lists !!\n",
            "Ariel just revised Python Tuples !!\n",
            "Ariel just revised Python Dictionaries !!\n",
            "Concepts Revised by Ariel : 3\n"
          ],
          "name": "stdout"
        }
      ]
    },
    {
      "metadata": {
        "id": "wFt0T6bBh8s0",
        "colab_type": "code",
        "colab": {}
      },
      "cell_type": "code",
      "source": [
        "# Inheritance\n",
        "'''\n",
        "Programmer => Parent Class\n",
        "Developer  => Child Class\n",
        "\n",
        "Child class inherits from the base class.\n",
        "The classes share a IS A relationship.\n",
        "So, in this case, Developer IS A Programmer.\n",
        "It has available all methods and variables from the parent class.\n",
        "And can define methods and variables of its own.\n",
        "'''\n",
        "class Developer(Programmer):\n",
        "    def __init__(self, name, age, expertise, yoe, *known_languages):\n",
        "        \n",
        "        # Call the parent class to initialize and give the child class an instance of the parent\n",
        "        super().__init__(name, age, known_languages)\n",
        "        self.expertise = expertise\n",
        "        self.years_of_experience = yoe\n",
        "        \n",
        "    def specializes_in(self):\n",
        "        return self.expertise\n",
        "    \n",
        "    def cv(self):\n",
        "        \"\"\"\n",
        "        This method overrides the cv() method in the parent class.\n",
        "        Any method in child class with same name as a method inherited from parent class\n",
        "        overrides the parent class method.\n",
        "        \"\"\"\n",
        "        print (\"Name                : \" + str(self.name))\n",
        "        print (\"Age                 : \" + str(self.age))\n",
        "        print (\"Skills              : \" + str(self.languages))\n",
        "        print (\"Expertise           : \" + str(self.expertise))\n",
        "        print (\"Years of Experience : \" + str(self.years_of_experience))"
      ],
      "execution_count": 0,
      "outputs": []
    },
    {
      "metadata": {
        "id": "7Zp-alP3iNDS",
        "colab_type": "code",
        "colab": {}
      },
      "cell_type": "code",
      "source": [
        "# Creating an instance of the child class\n",
        "a_developer = Developer (\"Jennifer\", 21, \"Android\", 2, \"Java\", \"Kotlin\", \"Python\", \"R\")"
      ],
      "execution_count": 0,
      "outputs": []
    },
    {
      "metadata": {
        "id": "iFZ8bppoiRQX",
        "colab_type": "code",
        "colab": {
          "base_uri": "https://localhost:8080/",
          "height": 68
        },
        "outputId": "69e06731-0f69-4d15-e04d-ebcd7fa8c8a8"
      },
      "cell_type": "code",
      "source": [
        "# Call to methods and variables from the child as well as parent class\n",
        "print (str(a_developer.name) + \" specializes in \" + str(a_developer.specializes_in()) + \".\")\n",
        "print (str(a_developer.name) + \" can code in \" + str(a_developer.languages_known()) + \".\")\n",
        "print (str(a_developer.name) + \" has \" + str(a_developer.years_of_experience) + \" years of experience.\")"
      ],
      "execution_count": 13,
      "outputs": [
        {
          "output_type": "stream",
          "text": [
            "Jennifer specializes in Android.\n",
            "Jennifer can code in [('Java', 'Kotlin', 'Python', 'R')].\n",
            "Jennifer has 2 years of experience.\n"
          ],
          "name": "stdout"
        }
      ]
    },
    {
      "metadata": {
        "id": "TbiHdZ84iRTO",
        "colab_type": "code",
        "colab": {
          "base_uri": "https://localhost:8080/",
          "height": 102
        },
        "outputId": "975ead63-a30b-44b2-da29-99affe55fbba"
      },
      "cell_type": "code",
      "source": [
        "# Calling the overriden method in the child class\n",
        "a_developer.cv()"
      ],
      "execution_count": 14,
      "outputs": [
        {
          "output_type": "stream",
          "text": [
            "Name                : Jennifer\n",
            "Age                 : 21\n",
            "Skills              : {('Java', 'Kotlin', 'Python', 'R')}\n",
            "Expertise           : Android\n",
            "Years of Experience : 2\n"
          ],
          "name": "stdout"
        }
      ]
    }
  ]
}