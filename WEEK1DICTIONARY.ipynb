{
  "nbformat": 4,
  "nbformat_minor": 0,
  "metadata": {
    "colab": {
      "name": "Untitled8.ipynb",
      "version": "0.3.2",
      "provenance": [],
      "include_colab_link": true
    },
    "kernelspec": {
      "name": "python3",
      "display_name": "Python 3"
    }
  },
  "cells": [
    {
      "cell_type": "markdown",
      "metadata": {
        "id": "view-in-github",
        "colab_type": "text"
      },
      "source": [
        "[View in Colaboratory](https://colab.research.google.com/github/ASIF8240233397/Assignment-1/blob/ASIF8240233397/WEEK1DICTIONARY.ipynb)"
      ]
    },
    {
      "metadata": {
        "id": "cj0bS86edRJr",
        "colab_type": "code",
        "colab": {
          "base_uri": "https://localhost:8080/",
          "height": 85
        },
        "outputId": "1881f099-8a76-4c9e-8e5a-82ae53297a9d"
      },
      "cell_type": "code",
      "source": [
        "# Simple Dictionary\n",
        "# Dictionary allows to have key:value pairs\n",
        "d1 = {\"Jennifer\":8, 'A':65, 66:'B', 9.45:\"Decimals\"}\n",
        "\n",
        "print (d1[\"Jennifer\"])\n",
        "print (d1['A'])\n",
        "print (d1[66])\n",
        "print (d1[9.45])"
      ],
      "execution_count": 1,
      "outputs": [
        {
          "output_type": "stream",
          "text": [
            "8\n",
            "65\n",
            "B\n",
            "Decimals\n"
          ],
          "name": "stdout"
        }
      ]
    },
    {
      "metadata": {
        "id": "3hRCfN0tdhn3",
        "colab_type": "code",
        "colab": {
          "base_uri": "https://localhost:8080/",
          "height": 85
        },
        "outputId": "f223f658-4f9a-4986-99ce-c33c58c581cc"
      },
      "cell_type": "code",
      "source": [
        "# Adding new kay:value pairs\n",
        "d1 = {\"Jennifer\":8, 'A':65, 66:'B', 9.45:\"Decimals\"}\n",
        "\n",
        "d1[\"Scarlett\"] = 8\n",
        "d1[7.56]       = \"Is a decimal!\"\n",
        "d1['Q']        = 17\n",
        "\n",
        "print (d1[\"Scarlett\"])\n",
        "print (d1[7.56])\n",
        "print (d1['Q'])\n",
        "\n",
        "print (d1)"
      ],
      "execution_count": 2,
      "outputs": [
        {
          "output_type": "stream",
          "text": [
            "8\n",
            "Is a decimal!\n",
            "17\n",
            "{'Jennifer': 8, 'A': 65, 66: 'B', 9.45: 'Decimals', 'Scarlett': 8, 7.56: 'Is a decimal!', 'Q': 17}\n"
          ],
          "name": "stdout"
        }
      ]
    },
    {
      "metadata": {
        "id": "PVreBgHDdkR_",
        "colab_type": "code",
        "colab": {
          "base_uri": "https://localhost:8080/",
          "height": 34
        },
        "outputId": "38aa4de4-a611-4a03-d763-bb5099ea2aa1"
      },
      "cell_type": "code",
      "source": [
        "# Declaring an empty dictionary\n",
        "d1 = {}\n",
        "\n",
        "# Add new values\n",
        "d1[\"Jennifer\"] = \"Python\"\n",
        "d1[\"Scarlett\"] = \"Python\"\n",
        "d1[45]         = 56\n",
        "\n",
        "print (d1)"
      ],
      "execution_count": 3,
      "outputs": [
        {
          "output_type": "stream",
          "text": [
            "{'Jennifer': 'Python', 'Scarlett': 'Python', 45: 56}\n"
          ],
          "name": "stdout"
        }
      ]
    },
    {
      "metadata": {
        "id": "aX-a4WtQdnrF",
        "colab_type": "code",
        "colab": {
          "base_uri": "https://localhost:8080/",
          "height": 34
        },
        "outputId": "87bb4b4f-8308-4f1a-bfd5-30aea7cdca71"
      },
      "cell_type": "code",
      "source": [
        "# Modifying values in a dictionary\n",
        "d1 = {\"Python\":\"Is a language\", \"Jennifer\":\"Feels like a supergirl with Python\"}\n",
        "\n",
        "d1[\"Python\"] = \"Is Love\"\n",
        "d1[\"Jennifer\"] = 8\n",
        "print (d1)"
      ],
      "execution_count": 4,
      "outputs": [
        {
          "output_type": "stream",
          "text": [
            "{'Python': 'Is Love', 'Jennifer': 8}\n"
          ],
          "name": "stdout"
        }
      ]
    },
    {
      "metadata": {
        "id": "uD5Z_9DydsBU",
        "colab_type": "code",
        "colab": {
          "base_uri": "https://localhost:8080/",
          "height": 34
        },
        "outputId": "ebb3d84b-5bec-416a-ded6-d22945ce1f91"
      },
      "cell_type": "code",
      "source": [
        "# Removing Key:Value pairs\n",
        "d1 = {\"Key\":\"Value\", \"Jennifer\":\"Scarlett\", \"Scarlett\":\"Jennifer\"}\n",
        "\n",
        "del d1[\"Key\"]\n",
        "print (d1)"
      ],
      "execution_count": 5,
      "outputs": [
        {
          "output_type": "stream",
          "text": [
            "{'Jennifer': 'Scarlett', 'Scarlett': 'Jennifer'}\n"
          ],
          "name": "stdout"
        }
      ]
    },
    {
      "metadata": {
        "id": "KFPTlpmedtdu",
        "colab_type": "code",
        "colab": {
          "base_uri": "https://localhost:8080/",
          "height": 122
        },
        "outputId": "52d3b0dc-f7ac-44cd-dc1b-ac21df034eaf"
      },
      "cell_type": "code",
      "source": [
        "# Storing a dictionary inside a dictionary\n",
        "d1 = {'A':65, 'B':66, 'C':67, 'D': {\n",
        "    \"Breaking\": \"Dict into dicts\", \n",
        "    \"Inception\": \"All over\", \n",
        "    '!': \"XD\"}, \n",
        "    'E':69, \n",
        "    \"What happened with D?\": \"It became a 'D'ictionary! XD\",\n",
        "    66:66}\n",
        "\n",
        "print (d1['D'][\"Inception\"])\n",
        "print (d1[\"What happened with D?\"])\n",
        "print ('\\n')\n",
        "print (d1)"
      ],
      "execution_count": 6,
      "outputs": [
        {
          "output_type": "stream",
          "text": [
            "All over\n",
            "It became a 'D'ictionary! XD\n",
            "\n",
            "\n",
            "{'A': 65, 'B': 66, 'C': 67, 'D': {'Breaking': 'Dict into dicts', 'Inception': 'All over', '!': 'XD'}, 'E': 69, 'What happened with D?': \"It became a 'D'ictionary! XD\", 66: 66}\n"
          ],
          "name": "stdout"
        }
      ]
    },
    {
      "metadata": {
        "id": "C7DCBYZwd3P2",
        "colab_type": "code",
        "colab": {
          "base_uri": "https://localhost:8080/",
          "height": 493
        },
        "outputId": "fafaee73-a6ae-4537-e872-19968686de61"
      },
      "cell_type": "code",
      "source": [
        "# Looping through a dictionary\n",
        "for key, value in d1.items():\n",
        "    print(\"Key: \"    + str(key))\n",
        "    print (\"Value: \" + str(value))\n",
        "    print('\\n')"
      ],
      "execution_count": 7,
      "outputs": [
        {
          "output_type": "stream",
          "text": [
            "Key: A\n",
            "Value: 65\n",
            "\n",
            "\n",
            "Key: B\n",
            "Value: 66\n",
            "\n",
            "\n",
            "Key: C\n",
            "Value: 67\n",
            "\n",
            "\n",
            "Key: D\n",
            "Value: {'Breaking': 'Dict into dicts', 'Inception': 'All over', '!': 'XD'}\n",
            "\n",
            "\n",
            "Key: E\n",
            "Value: 69\n",
            "\n",
            "\n",
            "Key: What happened with D?\n",
            "Value: It became a 'D'ictionary! XD\n",
            "\n",
            "\n",
            "Key: 66\n",
            "Value: 66\n",
            "\n",
            "\n"
          ],
          "name": "stdout"
        }
      ]
    },
    {
      "metadata": {
        "id": "IBKhTkhZd40s",
        "colab_type": "code",
        "colab": {
          "base_uri": "https://localhost:8080/",
          "height": 493
        },
        "outputId": "cdfa4725-c8b7-4df0-d152-3ea3961bf75f"
      },
      "cell_type": "code",
      "source": [
        "# Looping through the keys in dictionary\n",
        "for key in d1.keys():\n",
        "    print(\"Key: \"    + str(key))\n",
        "    print (\"Value: \" + str(d1[key]))\n",
        "    print('\\n')"
      ],
      "execution_count": 8,
      "outputs": [
        {
          "output_type": "stream",
          "text": [
            "Key: A\n",
            "Value: 65\n",
            "\n",
            "\n",
            "Key: B\n",
            "Value: 66\n",
            "\n",
            "\n",
            "Key: C\n",
            "Value: 67\n",
            "\n",
            "\n",
            "Key: D\n",
            "Value: {'Breaking': 'Dict into dicts', 'Inception': 'All over', '!': 'XD'}\n",
            "\n",
            "\n",
            "Key: E\n",
            "Value: 69\n",
            "\n",
            "\n",
            "Key: What happened with D?\n",
            "Value: It became a 'D'ictionary! XD\n",
            "\n",
            "\n",
            "Key: 66\n",
            "Value: 66\n",
            "\n",
            "\n"
          ],
          "name": "stdout"
        }
      ]
    },
    {
      "metadata": {
        "id": "jffqGelid8PB",
        "colab_type": "code",
        "colab": {
          "base_uri": "https://localhost:8080/",
          "height": 136
        },
        "outputId": "157b5f9e-d9e8-4587-f49b-507519482019"
      },
      "cell_type": "code",
      "source": [
        "# Note: Default behaviour is to loop through keys if not specified d1.keys()\n",
        "for k in d1:\n",
        "    print(\"Key: \"    + str(k))"
      ],
      "execution_count": 9,
      "outputs": [
        {
          "output_type": "stream",
          "text": [
            "Key: A\n",
            "Key: B\n",
            "Key: C\n",
            "Key: D\n",
            "Key: E\n",
            "Key: What happened with D?\n",
            "Key: 66\n"
          ],
          "name": "stdout"
        }
      ]
    },
    {
      "metadata": {
        "id": "2Al1cSKceF29",
        "colab_type": "code",
        "colab": {
          "base_uri": "https://localhost:8080/",
          "height": 34
        },
        "outputId": "1ac92c2e-a53c-40b4-d4f2-cc47af269c1a"
      },
      "cell_type": "code",
      "source": [
        "# Check if a particular key is  present\n",
        "if 'F' not in d1.keys():\n",
        "    print (\"What happened to F?\")"
      ],
      "execution_count": 10,
      "outputs": [
        {
          "output_type": "stream",
          "text": [
            "What happened to F?\n"
          ],
          "name": "stdout"
        }
      ]
    },
    {
      "metadata": {
        "id": "qFhEM03eeJ38",
        "colab_type": "code",
        "colab": {}
      },
      "cell_type": "code",
      "source": [
        "# Looping through dictonary keys in sorted order (increasing)\n",
        "for key in sorted(d1.keys()):\n",
        "    print (\"Key :\" + key + '\\t' + \"Value :\" + str(d1[key]) + '\\n')"
      ],
      "execution_count": 0,
      "outputs": []
    },
    {
      "metadata": {
        "id": "xwpYuzl2eJ5m",
        "colab_type": "code",
        "colab": {}
      },
      "cell_type": "code",
      "source": [
        "# Looping through dictonary keys in sorted order (decreasing)\n",
        "for key in sorted(d1.keys(), reverse=True):\n",
        "    print (\"Key :\" + key + '\\t' + \"Value :\" + str(d1[key]) + '\\n')"
      ],
      "execution_count": 0,
      "outputs": []
    },
    {
      "metadata": {
        "id": "ynlWZvpJeJ7r",
        "colab_type": "code",
        "colab": {
          "base_uri": "https://localhost:8080/",
          "height": 136
        },
        "outputId": "353a6a04-f1ed-47bd-8494-6d56618d8318"
      },
      "cell_type": "code",
      "source": [
        "# Looping through values in dictionary (with repeats)\n",
        "# Note: If two or more keys have the same value then this method will print all of them\n",
        "for value in d1.values():\n",
        "    print (str(value).title())"
      ],
      "execution_count": 13,
      "outputs": [
        {
          "output_type": "stream",
          "text": [
            "65\n",
            "66\n",
            "67\n",
            "{'Breaking': 'Dict Into Dicts', 'Inception': 'All Over', '!': 'Xd'}\n",
            "69\n",
            "It Became A 'D'Ictionary! Xd\n",
            "66\n"
          ],
          "name": "stdout"
        }
      ]
    },
    {
      "metadata": {
        "id": "fUgsQOGbeJ9M",
        "colab_type": "code",
        "colab": {
          "base_uri": "https://localhost:8080/",
          "height": 51
        },
        "outputId": "daae4462-8969-40cf-b82d-40e4d064046a"
      },
      "cell_type": "code",
      "source": [
        "# List in Dictionary\n",
        "d1 = {\"l1\":['A', 'B', 'C', 'D'],\n",
        "      \"l2\":['E', 'F', 'G', 'H'],\n",
        "       45 : \"qwerty\",\n",
        "      '$' : \"$Dollar$\"}\n",
        "\n",
        "# Accessing the elements in list\n",
        "print (d1[\"l1\"][2])\n",
        "print (d1[\"l2\"][-1])"
      ],
      "execution_count": 14,
      "outputs": [
        {
          "output_type": "stream",
          "text": [
            "C\n",
            "H\n"
          ],
          "name": "stdout"
        }
      ]
    },
    {
      "metadata": {
        "id": "hq7r6RcteJ_r",
        "colab_type": "code",
        "colab": {
          "base_uri": "https://localhost:8080/",
          "height": 255
        },
        "outputId": "696d92bd-e6dc-48ef-b359-f3b188764f46"
      },
      "cell_type": "code",
      "source": [
        "# Looping over just the lists in dictionary\n",
        "for k in d1.keys():\n",
        "    if type(d1[k]) == list:\n",
        "        print (\"List :\" + k)\n",
        "        for val in d1[k]:\n",
        "            print (val)\n",
        "        print ('\\n')"
      ],
      "execution_count": 15,
      "outputs": [
        {
          "output_type": "stream",
          "text": [
            "List :l1\n",
            "A\n",
            "B\n",
            "C\n",
            "D\n",
            "\n",
            "\n",
            "List :l2\n",
            "E\n",
            "F\n",
            "G\n",
            "H\n",
            "\n",
            "\n"
          ],
          "name": "stdout"
        }
      ]
    },
    {
      "metadata": {
        "id": "5wckDWa3eKCl",
        "colab_type": "code",
        "colab": {}
      },
      "cell_type": "code",
      "source": [
        ""
      ],
      "execution_count": 0,
      "outputs": []
    },
    {
      "metadata": {
        "id": "c3HiJOMueKIE",
        "colab_type": "code",
        "colab": {}
      },
      "cell_type": "code",
      "source": [
        ""
      ],
      "execution_count": 0,
      "outputs": []
    }
  ]
}