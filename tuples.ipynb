{
  "nbformat": 4,
  "nbformat_minor": 0,
  "metadata": {
    "colab": {
      "name": "Untitled10.ipynb",
      "version": "0.3.2",
      "provenance": [],
      "include_colab_link": true
    },
    "kernelspec": {
      "name": "python3",
      "display_name": "Python 3"
    }
  },
  "cells": [
    {
      "cell_type": "markdown",
      "metadata": {
        "id": "view-in-github",
        "colab_type": "text"
      },
      "source": [
        "[View in Colaboratory](https://colab.research.google.com/github/MONA7584908095/Assignment-1/blob/MONA7584908095/tuples.ipynb)"
      ]
    },
    {
      "metadata": {
        "id": "sRe4gd82V5sR",
        "colab_type": "code",
        "colab": {
          "base_uri": "https://localhost:8080/",
          "height": 52
        },
        "outputId": "afc380d6-119f-4e70-f4e0-b970056d271e"
      },
      "cell_type": "code",
      "source": [
        "# Simple Tuples\n",
        "# Tuples are list, the elements stored in which cannot be changed.\n",
        "t1 = (23, 45)\n",
        "print (t1)\n",
        "print (t1[1])"
      ],
      "execution_count": 1,
      "outputs": [
        {
          "output_type": "stream",
          "text": [
            "(23, 45)\n",
            "45\n"
          ],
          "name": "stdout"
        }
      ]
    },
    {
      "metadata": {
        "id": "gtKBsqwsV-0V",
        "colab_type": "code",
        "colab": {
          "base_uri": "https://localhost:8080/",
          "height": 52
        },
        "outputId": "e0b1105f-dd6e-4b75-f94a-8de82369d8e6"
      },
      "cell_type": "code",
      "source": [
        "# Can have more than two elements\n",
        "t1 = (1, 2, 3, 4, 5, 6, 7)\n",
        "print (t1)\n",
        "print (t1[4])"
      ],
      "execution_count": 2,
      "outputs": [
        {
          "output_type": "stream",
          "text": [
            "(1, 2, 3, 4, 5, 6, 7)\n",
            "5\n"
          ],
          "name": "stdout"
        }
      ]
    },
    {
      "metadata": {
        "id": "YNd9riUoV-7E",
        "colab_type": "code",
        "colab": {
          "base_uri": "https://localhost:8080/",
          "height": 52
        },
        "outputId": "58d94f0f-f879-40bf-9368-ef6e0b08f9a2"
      },
      "cell_type": "code",
      "source": [
        "# Cannot change the elements stored as compared to lists\n",
        "l1 = [1, 2, 3, 4, 5, 6, 7]\n",
        "t1 = (1, 2, 3, 4, 5, 6, 7)\n",
        "\n",
        "# Can change elements in list\n",
        "l1[4] = 1\n",
        "# Cannot change elements in tuple (Uncomment it to see the error)\n",
        "#t1[4] = 1\n",
        "\n",
        "print (l1)\n",
        "print (t1)"
      ],
      "execution_count": 3,
      "outputs": [
        {
          "output_type": "stream",
          "text": [
            "[1, 2, 3, 4, 1, 6, 7]\n",
            "(1, 2, 3, 4, 5, 6, 7)\n"
          ],
          "name": "stdout"
        }
      ]
    },
    {
      "metadata": {
        "id": "UVQ6PgWPV--M",
        "colab_type": "code",
        "colab": {
          "base_uri": "https://localhost:8080/",
          "height": 106
        },
        "outputId": "3071d33f-4b08-4734-d0ef-476726ff0607"
      },
      "cell_type": "code",
      "source": [
        "# Looping over a tuple\n",
        "t1 = (34, 12, 56, 78, 89)\n",
        "for t in t1:\n",
        "    print (t)"
      ],
      "execution_count": 4,
      "outputs": [
        {
          "output_type": "stream",
          "text": [
            "34\n",
            "12\n",
            "56\n",
            "78\n",
            "89\n"
          ],
          "name": "stdout"
        }
      ]
    },
    {
      "metadata": {
        "id": "Nwe4BL6LV_At",
        "colab_type": "code",
        "colab": {
          "base_uri": "https://localhost:8080/",
          "height": 52
        },
        "outputId": "f58fc874-88f8-4ef9-a18e-67989852734d"
      },
      "cell_type": "code",
      "source": [
        "# Writing over a tuple\n",
        "# One cannot change the elements stored in the tuple. \n",
        "# But you can assign a new tuple to the variable that stores the tuple you wanna change.\n",
        "t1 = (23, 12, 45, 78)\n",
        "print (t1)\n",
        "\n",
        "t1 = (45, 67) # t1 changed to new value\n",
        "print (t1)"
      ],
      "execution_count": 5,
      "outputs": [
        {
          "output_type": "stream",
          "text": [
            "(23, 12, 45, 78)\n",
            "(45, 67)\n"
          ],
          "name": "stdout"
        }
      ]
    },
    {
      "metadata": {
        "id": "MZJESEkZV_D3",
        "colab_type": "code",
        "colab": {}
      },
      "cell_type": "code",
      "source": [
        ""
      ],
      "execution_count": 0,
      "outputs": []
    },
    {
      "metadata": {
        "id": "AlZlDeSHV_Gk",
        "colab_type": "code",
        "colab": {}
      },
      "cell_type": "code",
      "source": [
        ""
      ],
      "execution_count": 0,
      "outputs": []
    }
  ]
}