{
  "nbformat": 4,
  "nbformat_minor": 0,
  "metadata": {
    "colab": {
      "name": "Untitled12.ipynb",
      "version": "0.3.2",
      "provenance": [],
      "include_colab_link": true
    },
    "kernelspec": {
      "name": "python3",
      "display_name": "Python 3"
    }
  },
  "cells": [
    {
      "cell_type": "markdown",
      "metadata": {
        "id": "view-in-github",
        "colab_type": "text"
      },
      "source": [
        "[View in Colaboratory](https://colab.research.google.com/github/MONA7584908095/Assignment-1/blob/MONA7584908095/function2.ipynb)"
      ]
    },
    {
      "metadata": {
        "id": "p788-p9pXu2V",
        "colab_type": "code",
        "colab": {
          "base_uri": "https://localhost:8080/",
          "height": 52
        },
        "outputId": "9b4791d1-d6f1-4a1f-9b0b-b04923d6267e"
      },
      "cell_type": "code",
      "source": [
        "# Simple function\n",
        "# Function definition\n",
        "def a_func():\n",
        "    print (\"A Message from the other world!\")\n",
        "\n",
        "# Function Call\n",
        "a_func()\n",
        "a_func()"
      ],
      "execution_count": 1,
      "outputs": [
        {
          "output_type": "stream",
          "text": [
            "A Message from the other world!\n",
            "A Message from the other world!\n"
          ],
          "name": "stdout"
        }
      ]
    },
    {
      "metadata": {
        "id": "tfqEZe2NX3IV",
        "colab_type": "code",
        "colab": {
          "base_uri": "https://localhost:8080/",
          "height": 52
        },
        "outputId": "ceb58163-b95d-4bbd-c146-a357827c7706"
      },
      "cell_type": "code",
      "source": [
        "# Passing arguments to functions\n",
        "def add_two(num):\n",
        "    print (int(num)+2)\n",
        "\n",
        "add_two (3)\n",
        "add_two (\"45\") # This will work as we are casting the passed parameter to Integer before adding"
      ],
      "execution_count": 2,
      "outputs": [
        {
          "output_type": "stream",
          "text": [
            "5\n",
            "47\n"
          ],
          "name": "stdout"
        }
      ]
    },
    {
      "metadata": {
        "id": "4Qk-_toLX3LK",
        "colab_type": "code",
        "colab": {
          "base_uri": "https://localhost:8080/",
          "height": 159
        },
        "outputId": "baa2ecb9-6faa-4782-f74d-d49e9173f729"
      },
      "cell_type": "code",
      "source": [
        "# Multiple arguments\n",
        "def add_sub(add_two_to_this, sub_two_from_this):\n",
        "    print (\"Added 2 to : \" + str(add_two_to_this))\n",
        "    print (\"Answer: \" + str(int(add_two_to_this)+2))\n",
        "    \n",
        "    print (\"Subtracted 3 from : \" + str(sub_two_from_this))\n",
        "    print (\"Answer: \" + str(int(sub_two_from_this)-2))\n",
        "    \n",
        "add_sub (45, \"67\")\n",
        "add_sub (\"-156745\", 12131)"
      ],
      "execution_count": 3,
      "outputs": [
        {
          "output_type": "stream",
          "text": [
            "Added 2 to : 45\n",
            "Answer: 47\n",
            "Subtracted 3 from : 67\n",
            "Answer: 65\n",
            "Added 2 to : -156745\n",
            "Answer: -156743\n",
            "Subtracted 3 from : 12131\n",
            "Answer: 12129\n"
          ],
          "name": "stdout"
        }
      ]
    },
    {
      "metadata": {
        "id": "majAOadPX3Qr",
        "colab_type": "code",
        "colab": {
          "base_uri": "https://localhost:8080/",
          "height": 52
        },
        "outputId": "e0c32404-aeb6-4978-ced5-983263c5a39f"
      },
      "cell_type": "code",
      "source": [
        "# Ordering of passed argument matters\n",
        "def coding_in(name, language):\n",
        "    print (str(name) + \" is coding in \" + str(language))\n",
        "    \n",
        "coding_in(\"Jennifer\", \"Python\")\n",
        "# If you change the order, results are unexpected\n",
        "coding_in(\"Python\", \"Jennifer\")"
      ],
      "execution_count": 4,
      "outputs": [
        {
          "output_type": "stream",
          "text": [
            "Jennifer is coding in Python\n",
            "Python is coding in Jennifer\n"
          ],
          "name": "stdout"
        }
      ]
    },
    {
      "metadata": {
        "id": "QtVDuJs3X3Ta",
        "colab_type": "code",
        "colab": {
          "base_uri": "https://localhost:8080/",
          "height": 52
        },
        "outputId": "2db224e9-a490-4427-d9db-267c27ffb9a5"
      },
      "cell_type": "code",
      "source": [
        "# Keyword Arguments\n",
        "# Pass the argumnets as key:value pairs, so even if unordered it won't produce unexpected results\n",
        "def coding_in(name, language):\n",
        "    print (str(name) + \" is coding in \" + str(language))\n",
        "    \n",
        "coding_in(name=\"Jennifer\", language=\"Python\")\n",
        "# If you change the order, results are same\n",
        "coding_in(language=\"Python\", name=\"Jennifer\")"
      ],
      "execution_count": 5,
      "outputs": [
        {
          "output_type": "stream",
          "text": [
            "Jennifer is coding in Python\n",
            "Jennifer is coding in Python\n"
          ],
          "name": "stdout"
        }
      ]
    },
    {
      "metadata": {
        "id": "uoJf0Or2X3XT",
        "colab_type": "code",
        "colab": {
          "base_uri": "https://localhost:8080/",
          "height": 52
        },
        "outputId": "c808a958-9561-49bb-cd76-d39340d47465"
      },
      "cell_type": "code",
      "source": [
        "# Keyword Arguments\n",
        "# Pass the argumnets as key:value pairs, so even if unordered it won't produce unexpected results\n",
        "def coding_in(name, language):\n",
        "    print (str(name) + \" is coding in \" + str(language))\n",
        "    \n",
        "coding_in(name=\"Jennifer\", language=\"Python\")\n",
        "# If you change the order, results are same\n",
        "coding_in(language=\"Python\", name=\"Jennifer\")"
      ],
      "execution_count": 6,
      "outputs": [
        {
          "output_type": "stream",
          "text": [
            "Jennifer is coding in Python\n",
            "Jennifer is coding in Python\n"
          ],
          "name": "stdout"
        }
      ]
    },
    {
      "metadata": {
        "id": "aamcZyjBYGiF",
        "colab_type": "code",
        "colab": {
          "base_uri": "https://localhost:8080/",
          "height": 52
        },
        "outputId": "805d72aa-8c5c-40fd-9adc-7fe1e0a6244e"
      },
      "cell_type": "code",
      "source": [
        "# Default Values for parameters\n",
        "# Note: If you do not pass arguments required by the function and that argument does not have a default value, \n",
        "#       then python will throw an error\n",
        "def coding_in(name, language=\"Python\"):\n",
        "    print (str(name) + \" is coding in \" + str(language))\n",
        "    \n",
        "coding_in(\"Jennifer\") # Since 2nd argument is not passed, it takes on the default parameter given\n",
        "coding_in(\"Jennifer\", \"R\") # Since 2nd argument is passed, it takes on the passed arguemnt"
      ],
      "execution_count": 7,
      "outputs": [
        {
          "output_type": "stream",
          "text": [
            "Jennifer is coding in Python\n",
            "Jennifer is coding in R\n"
          ],
          "name": "stdout"
        }
      ]
    },
    {
      "metadata": {
        "id": "iI5zQA9-YGlN",
        "colab_type": "code",
        "colab": {
          "base_uri": "https://localhost:8080/",
          "height": 132
        },
        "outputId": "37242474-7bcf-46f6-f812-8b2700c1615a"
      },
      "cell_type": "code",
      "source": [
        "# Note: You cannot have parameters with no default value after parameters having default value\n",
        "# Following is an error\n",
        "def coding_in(name, language1=\"Python\", language2):\n",
        "    print (str(name) + \" is coding in \" + str(language1) + \" and \" + str(language2))\n",
        "\n",
        "coding_in(\"Jennifer\", \"Python\", \"R\")"
      ],
      "execution_count": 8,
      "outputs": [
        {
          "output_type": "error",
          "ename": "SyntaxError",
          "evalue": "ignored",
          "traceback": [
            "\u001b[0;36m  File \u001b[0;32m\"<ipython-input-8-928958ed3972>\"\u001b[0;36m, line \u001b[0;32m1\u001b[0m\n\u001b[0;31m    def coding_in(name, language1=\"Python\", language2):\u001b[0m\n\u001b[0m                 ^\u001b[0m\n\u001b[0;31mSyntaxError\u001b[0m\u001b[0;31m:\u001b[0m non-default argument follows default argument\n"
          ]
        }
      ]
    },
    {
      "metadata": {
        "id": "g4f_ibACYGpQ",
        "colab_type": "code",
        "colab": {
          "base_uri": "https://localhost:8080/",
          "height": 52
        },
        "outputId": "bd957654-98d4-445f-c442-675a003a0a68"
      },
      "cell_type": "code",
      "source": [
        "# Easy fix to above error is to declare all non-default parameters, \n",
        "# and then start declaring the default parameters\n",
        "# Note: Default parameters can be used to make an argument optional\n",
        "def coding_in(name, language2, language1=\"Python\"):\n",
        "    print (str(name) + \" is coding in \" + str(language1) + \" and \" + str(language2))\n",
        "\n",
        "coding_in(\"Jennifer\", \"Python\", \"R\")\n",
        "coding_in(\"Jennifer\", \"R\")"
      ],
      "execution_count": 9,
      "outputs": [
        {
          "output_type": "stream",
          "text": [
            "Jennifer is coding in R and Python\n",
            "Jennifer is coding in Python and R\n"
          ],
          "name": "stdout"
        }
      ]
    },
    {
      "metadata": {
        "id": "qQ8E42ORYGsa",
        "colab_type": "code",
        "colab": {
          "base_uri": "https://localhost:8080/",
          "height": 35
        },
        "outputId": "ff662df1-e905-43c0-c592-c9800309bc45"
      },
      "cell_type": "code",
      "source": [
        "# All parameters can be default\n",
        "def coding_in(name=\"Jennifer\", language1=\"Python\", language2=\"R\"):\n",
        "    print (str(name) + \" is coding in \" + str(language1) + \" and \" + str(language2))\n",
        "\n",
        "coding_in()"
      ],
      "execution_count": 10,
      "outputs": [
        {
          "output_type": "stream",
          "text": [
            "Jennifer is coding in Python and R\n"
          ],
          "name": "stdout"
        }
      ]
    },
    {
      "metadata": {
        "id": "5FEYW8ctYGu9",
        "colab_type": "code",
        "colab": {
          "base_uri": "https://localhost:8080/",
          "height": 52
        },
        "outputId": "2ebd6b6e-4ddc-4690-b7ae-004ae53d1422"
      },
      "cell_type": "code",
      "source": [
        "# return\n",
        "def pow_4(num):\n",
        "    return num**4\n",
        "\n",
        "v1 = pow_4(34) # v1 now stores 34^4\n",
        "v2 = pow_4(23) # v2 now stores 23^4\n",
        "\n",
        "print (\"34^4 = \" + str(v1))\n",
        "print (\"23^4 = \" + str(v2))"
      ],
      "execution_count": 11,
      "outputs": [
        {
          "output_type": "stream",
          "text": [
            "34^4 = 1336336\n",
            "23^4 = 279841\n"
          ],
          "name": "stdout"
        }
      ]
    },
    {
      "metadata": {
        "id": "0mHJG6JTYZy9",
        "colab_type": "code",
        "colab": {
          "base_uri": "https://localhost:8080/",
          "height": 35
        },
        "outputId": "8bddd267-2ec6-4863-ac17-f822d9a9def8"
      },
      "cell_type": "code",
      "source": [
        "# can return any data type or object from function\n",
        "def make_a_coder(name, age, language):\n",
        "    d1 = {'name': name, \n",
        "          'age' : age,\n",
        "          'language' : language}\n",
        "    return d1\n",
        "\n",
        "print(make_a_coder(\"Jennifer\", \"21\", \"Python\"))"
      ],
      "execution_count": 12,
      "outputs": [
        {
          "output_type": "stream",
          "text": [
            "{'name': 'Jennifer', 'age': '21', 'language': 'Python'}\n"
          ],
          "name": "stdout"
        }
      ]
    },
    {
      "metadata": {
        "id": "wC-H8jIEYZ2I",
        "colab_type": "code",
        "colab": {
          "base_uri": "https://localhost:8080/",
          "height": 124
        },
        "outputId": "faa639a5-67dd-470c-b6d1-b59af1273721"
      },
      "cell_type": "code",
      "source": [
        "# can pass any data type or object to function\n",
        "def make_many_coders(list_of_coders):\n",
        "    print (\"Name    \\tLanguage  \\tAge\")\n",
        "    print (\"========\\t==========\\t===\")\n",
        "    for coder,details in list_of_coders.items():\n",
        "        print (str(coder) + \"\\t\" + str(details[0]) + \"\\t\\t\" + str(details[-1]))\n",
        "    \n",
        "    return str(len(list_of_coders))\n",
        "\n",
        "d1 = {\"Jennifer\": [\"Python\", 21],\n",
        "      \"Scarlett\": [\"R\", 21]}\n",
        "print ('\\n' + make_many_coders(d1) + \" coders found!\")"
      ],
      "execution_count": 13,
      "outputs": [
        {
          "output_type": "stream",
          "text": [
            "Name    \tLanguage  \tAge\n",
            "========\t==========\t===\n",
            "Jennifer\tPython\t\t21\n",
            "Scarlett\tR\t\t21\n",
            "\n",
            "2 coders found!\n"
          ],
          "name": "stdout"
        }
      ]
    },
    {
      "metadata": {
        "id": "nOYgiwE2YZ4w",
        "colab_type": "code",
        "colab": {
          "base_uri": "https://localhost:8080/",
          "height": 52
        },
        "outputId": "ddca1bf2-870a-4649-b2e3-36f14f41ecea"
      },
      "cell_type": "code",
      "source": [
        "# If a list passed to a function is changed inside the function then the change is permanent\n",
        "def make_language_list(language_list, new_language):\n",
        "    language_list.append(new_language)\n",
        "    \n",
        "lang_list = [\"Python\", \"R\"]\n",
        "print (lang_list)\n",
        "\n",
        "make_language_list(lang_list, \"Julia\")\n",
        "print (lang_list)"
      ],
      "execution_count": 14,
      "outputs": [
        {
          "output_type": "stream",
          "text": [
            "['Python', 'R']\n",
            "['Python', 'R', 'Julia']\n"
          ],
          "name": "stdout"
        }
      ]
    },
    {
      "metadata": {
        "id": "sIyI1iryYZ9W",
        "colab_type": "code",
        "colab": {
          "base_uri": "https://localhost:8080/",
          "height": 52
        },
        "outputId": "f73700ec-c048-4700-f42e-2376853f9a05"
      },
      "cell_type": "code",
      "source": [
        "# Preventing a function from modifying a list\n",
        "def make_language_list(language_list, new_language):\n",
        "    language_list.append(new_language)\n",
        "    \n",
        "lang_list = [\"Python\", \"R\"]\n",
        "print (lang_list)\n",
        "\n",
        "make_language_list(lang_list[:], \"Julia\")\n",
        "print (lang_list)"
      ],
      "execution_count": 15,
      "outputs": [
        {
          "output_type": "stream",
          "text": [
            "['Python', 'R']\n",
            "['Python', 'R']\n"
          ],
          "name": "stdout"
        }
      ]
    },
    {
      "metadata": {
        "id": "v1W062zAYvo1",
        "colab_type": "code",
        "colab": {
          "base_uri": "https://localhost:8080/",
          "height": 52
        },
        "outputId": "4263889b-233c-4f6e-c00f-af2e6cd90f9d"
      },
      "cell_type": "code",
      "source": [
        "# Passing Arbitrary number of arguments\n",
        "# The '*' tells Python to make a tuple of whatever number of arguments it receives at that position\n",
        "def languages(*many_languages): \n",
        "    print (many_languages)\n",
        "    \n",
        "languages (\"Python\")\n",
        "languages (\"Python\", \"R\", \"Julia\", \"Ruby\", \"Go\")"
      ],
      "execution_count": 16,
      "outputs": [
        {
          "output_type": "stream",
          "text": [
            "('Python',)\n",
            "('Python', 'R', 'Julia', 'Ruby', 'Go')\n"
          ],
          "name": "stdout"
        }
      ]
    },
    {
      "metadata": {
        "id": "SZb6aXkEYvsL",
        "colab_type": "code",
        "colab": {
          "base_uri": "https://localhost:8080/",
          "height": 52
        },
        "outputId": "1a7926db-c19a-4511-f8b6-95c4eafaba16"
      },
      "cell_type": "code",
      "source": [
        "# Passing Arbitrary number of arguments with a normal argument\n",
        "# Note: The parameter that accepts arbitrary number of arguments needs to be placed at last\n",
        "def knows_languages(name, *languages):\n",
        "    print (str(name) +  \" knows: \" + str(languages))\n",
        "    \n",
        "knows_languages(\"Jennifer\", \"Python\")\n",
        "knows_languages(\"Jennifer\", \"Python\", \"R\", \"Julia\", \"Ruby\")"
      ],
      "execution_count": 17,
      "outputs": [
        {
          "output_type": "stream",
          "text": [
            "Jennifer knows: ('Python',)\n",
            "Jennifer knows: ('Python', 'R', 'Julia', 'Ruby')\n"
          ],
          "name": "stdout"
        }
      ]
    },
    {
      "metadata": {
        "id": "lyf56abRYvvU",
        "colab_type": "code",
        "colab": {
          "base_uri": "https://localhost:8080/",
          "height": 132
        },
        "outputId": "58054ae1-5052-476e-cf22-0102b58b4259"
      },
      "cell_type": "code",
      "source": [
        "# Note: You cannot have two or more parameters that accepts arbitrary number of arguments\n",
        "# Hence, following is an error!\n",
        "def knows_languages_and_modules(name, *languages, *modules):\n",
        "    print (str(name) +  \" knows: \" + str(languages))\n",
        "    \n",
        "knows_languages(\"Jennifer\", \"Python\", \"PyGtk\")\n",
        "knows_languages(\"Jennifer\", \"Python\", \"R\", \"Julia\", \"Ruby\", \"PyGtk\", \"PyGame\", \"audioop\")"
      ],
      "execution_count": 18,
      "outputs": [
        {
          "output_type": "error",
          "ename": "SyntaxError",
          "evalue": "ignored",
          "traceback": [
            "\u001b[0;36m  File \u001b[0;32m\"<ipython-input-18-00bda608046d>\"\u001b[0;36m, line \u001b[0;32m1\u001b[0m\n\u001b[0;31m    def knows_languages_and_modules(name, *languages, *modules):\u001b[0m\n\u001b[0m                                                      ^\u001b[0m\n\u001b[0;31mSyntaxError\u001b[0m\u001b[0;31m:\u001b[0m invalid syntax\n"
          ]
        }
      ]
    },
    {
      "metadata": {
        "id": "rcoIEGu8YZ7x",
        "colab_type": "code",
        "colab": {
          "base_uri": "https://localhost:8080/",
          "height": 52
        },
        "outputId": "866dbd2d-8494-4351-e066-928b3156d76a"
      },
      "cell_type": "code",
      "source": [
        "# Using Arbitrary Keyword Argument\n",
        "# Note: '**' tells Python to create a dictionary of the extra arguments passed after the first required positional argument\n",
        "def make_a_coder(name, **details):\n",
        "    coder = {}\n",
        "    coder[\"name\"] = name;\n",
        "    for key, value in details.items():\n",
        "        coder[key] = value\n",
        "    return coder\n",
        "\n",
        "print (make_a_coder(\"Jennifer\", location=\"California\", age=\"21\", language=(\"Python\", \"R\")))\n",
        "\n",
        "# We can do this since we are using keyword arguments\n",
        "print (make_a_coder(location=\"California\", age=\"21\", language=(\"Python\", \"R\"), name=\"Jennifer\"))"
      ],
      "execution_count": 19,
      "outputs": [
        {
          "output_type": "stream",
          "text": [
            "{'name': 'Jennifer', 'location': 'California', 'age': '21', 'language': ('Python', 'R')}\n",
            "{'name': 'Jennifer', 'location': 'California', 'age': '21', 'language': ('Python', 'R')}\n"
          ],
          "name": "stdout"
        }
      ]
    }
  ]
}