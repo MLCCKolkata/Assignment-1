{
  "nbformat": 4,
  "nbformat_minor": 0,
  "metadata": {
    "colab": {
      "name": "Untitled7.ipynb",
      "version": "0.3.2",
      "provenance": [],
      "include_colab_link": true
    },
    "kernelspec": {
      "name": "python3",
      "display_name": "Python 3"
    }
  },
  "cells": [
    {
      "cell_type": "markdown",
      "metadata": {
        "id": "view-in-github",
        "colab_type": "text"
      },
      "source": [
        "[View in Colaboratory](https://colab.research.google.com/github/ASIF8240233397/Assignment-1/blob/ASIF8240233397/WEEK1NO6TUPLE.ipynb)"
      ]
    },
    {
      "metadata": {
        "id": "raWpQTC-bAaU",
        "colab_type": "code",
        "colab": {
          "base_uri": "https://localhost:8080/",
          "height": 51
        },
        "outputId": "c60b7e6c-ecd0-432b-f0b2-6624919e7b98"
      },
      "cell_type": "code",
      "source": [
        "# Simple Tuples\n",
        "# Tuples are list, the elements stored in which cannot be changed.\n",
        "t1 = (23, 45)\n",
        "print (t1)\n",
        "print (t1[1])"
      ],
      "execution_count": 1,
      "outputs": [
        {
          "output_type": "stream",
          "text": [
            "(23, 45)\n",
            "45\n"
          ],
          "name": "stdout"
        }
      ]
    },
    {
      "metadata": {
        "id": "Jquc-jVGbfpe",
        "colab_type": "code",
        "colab": {
          "base_uri": "https://localhost:8080/",
          "height": 51
        },
        "outputId": "88528c3a-5b8b-4b7c-e875-365022e15199"
      },
      "cell_type": "code",
      "source": [
        "# Can have more than two elements\n",
        "t1 = (1, 2, 3, 4, 5, 6, 7)\n",
        "print (t1)\n",
        "print (t1[4])"
      ],
      "execution_count": 2,
      "outputs": [
        {
          "output_type": "stream",
          "text": [
            "(1, 2, 3, 4, 5, 6, 7)\n",
            "5\n"
          ],
          "name": "stdout"
        }
      ]
    },
    {
      "metadata": {
        "id": "pF0g-AxybkEW",
        "colab_type": "code",
        "colab": {
          "base_uri": "https://localhost:8080/",
          "height": 51
        },
        "outputId": "e4d9d5b0-a250-478b-82e6-0f1e3931b753"
      },
      "cell_type": "code",
      "source": [
        "# Cannot change the elements stored as compared to lists\n",
        "l1 = [1, 2, 3, 4, 5, 6, 7]\n",
        "t1 = (1, 2, 3, 4, 5, 6, 7)\n",
        "\n",
        "# Can change elements in list\n",
        "l1[4] = 1\n",
        "# Cannot change elements in tuple (Uncomment it to see the error)\n",
        "#t1[4] = 1\n",
        "\n",
        "print (l1)\n",
        "print (t1)"
      ],
      "execution_count": 3,
      "outputs": [
        {
          "output_type": "stream",
          "text": [
            "[1, 2, 3, 4, 1, 6, 7]\n",
            "(1, 2, 3, 4, 5, 6, 7)\n"
          ],
          "name": "stdout"
        }
      ]
    },
    {
      "metadata": {
        "id": "lqjdIrWxbmFH",
        "colab_type": "code",
        "colab": {
          "base_uri": "https://localhost:8080/",
          "height": 102
        },
        "outputId": "47d55168-6af4-4792-a307-12fba0c0a2c3"
      },
      "cell_type": "code",
      "source": [
        "# Looping over a tuple\n",
        "t1 = (34, 12, 56, 78, 89)\n",
        "for t in t1:\n",
        "    print (t)"
      ],
      "execution_count": 4,
      "outputs": [
        {
          "output_type": "stream",
          "text": [
            "34\n",
            "12\n",
            "56\n",
            "78\n",
            "89\n"
          ],
          "name": "stdout"
        }
      ]
    },
    {
      "metadata": {
        "id": "r6Smq-9CbmHF",
        "colab_type": "code",
        "colab": {
          "base_uri": "https://localhost:8080/",
          "height": 51
        },
        "outputId": "d79d7a86-efc2-47fd-ca60-0bcd16544bad"
      },
      "cell_type": "code",
      "source": [
        "# Writing over a tuple\n",
        "# One cannot change the elements stored in the tuple. \n",
        "# But you can assign a new tuple to the variable that stores the tuple you wanna change.\n",
        "t1 = (23, 12, 45, 78)\n",
        "print (t1)\n",
        "\n",
        "t1 = (45, 67) # t1 changed to new value\n",
        "print (t1)"
      ],
      "execution_count": 5,
      "outputs": [
        {
          "output_type": "stream",
          "text": [
            "(23, 12, 45, 78)\n",
            "(45, 67)\n"
          ],
          "name": "stdout"
        }
      ]
    },
    {
      "metadata": {
        "id": "kTgKmVDWbmKG",
        "colab_type": "code",
        "colab": {}
      },
      "cell_type": "code",
      "source": [
        ""
      ],
      "execution_count": 0,
      "outputs": []
    },
    {
      "metadata": {
        "id": "DIN7jg6xbmLq",
        "colab_type": "code",
        "colab": {}
      },
      "cell_type": "code",
      "source": [
        ""
      ],
      "execution_count": 0,
      "outputs": []
    },
    {
      "metadata": {
        "id": "1jCPpew1bmOW",
        "colab_type": "code",
        "colab": {}
      },
      "cell_type": "code",
      "source": [
        ""
      ],
      "execution_count": 0,
      "outputs": []
    },
    {
      "metadata": {
        "id": "YWOvHXTpbmQG",
        "colab_type": "code",
        "colab": {}
      },
      "cell_type": "code",
      "source": [
        ""
      ],
      "execution_count": 0,
      "outputs": []
    },
    {
      "metadata": {
        "id": "bpzCXqkebmTf",
        "colab_type": "code",
        "colab": {}
      },
      "cell_type": "code",
      "source": [
        ""
      ],
      "execution_count": 0,
      "outputs": []
    }
  ]
}