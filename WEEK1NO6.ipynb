{
  "nbformat": 4,
  "nbformat_minor": 0,
  "metadata": {
    "colab": {
      "name": "Untitled6.ipynb",
      "version": "0.3.2",
      "provenance": [],
      "include_colab_link": true
    },
    "kernelspec": {
      "name": "python3",
      "display_name": "Python 3"
    }
  },
  "cells": [
    {
      "cell_type": "markdown",
      "metadata": {
        "id": "view-in-github",
        "colab_type": "text"
      },
      "source": [
        "[View in Colaboratory](https://colab.research.google.com/github/ASIF8240233397/Assignment-1/blob/ASIF8240233397/WEEK1NO6.ipynb)"
      ]
    },
    {
      "metadata": {
        "id": "WjLOFKkJXQSb",
        "colab_type": "code",
        "colab": {
          "base_uri": "https://localhost:8080/",
          "height": 68
        },
        "outputId": "813231e1-ff08-4524-b68d-cf9db72de9e3"
      },
      "cell_type": "code",
      "source": [
        "# Simple Lists\n",
        "names = [\"Jennifer\", \"Python\", \"Scarlett\"]\n",
        "nums  = [1, 2, 3, 4, 5]\n",
        "chars = ['A', 'q', 'E', 'z', 'Y']\n",
        "\n",
        "print (names)\n",
        "print (nums)\n",
        "print (chars)"
      ],
      "execution_count": 1,
      "outputs": [
        {
          "output_type": "stream",
          "text": [
            "['Jennifer', 'Python', 'Scarlett']\n",
            "[1, 2, 3, 4, 5]\n",
            "['A', 'q', 'E', 'z', 'Y']\n"
          ],
          "name": "stdout"
        }
      ]
    },
    {
      "metadata": {
        "id": "wqC9x39fXXih",
        "colab_type": "code",
        "colab": {
          "base_uri": "https://localhost:8080/",
          "height": 34
        },
        "outputId": "6f0adf6d-296a-43b6-b5de-848e9e59e6fd"
      },
      "cell_type": "code",
      "source": [
        "# Can have multiple data types in one list\n",
        "rand_list = [\"Jennifer\", \"Python\", \"refinneJ\", 'J', '9', 9, 12.90, \"Who\"]\n",
        "print (rand_list)"
      ],
      "execution_count": 2,
      "outputs": [
        {
          "output_type": "stream",
          "text": [
            "['Jennifer', 'Python', 'refinneJ', 'J', '9', 9, 12.9, 'Who']\n"
          ],
          "name": "stdout"
        }
      ]
    },
    {
      "metadata": {
        "id": "g9nJBCmcXmYc",
        "colab_type": "code",
        "colab": {
          "base_uri": "https://localhost:8080/",
          "height": 68
        },
        "outputId": "0825921b-2cd0-4c63-f9ed-1892288944f3"
      },
      "cell_type": "code",
      "source": [
        "# Accessing elements in a list\n",
        "# O-indexed\n",
        "print (names[2])\n",
        "print (rand_list[3])\n",
        "print (names[0] + \" \" + rand_list[2].title())"
      ],
      "execution_count": 3,
      "outputs": [
        {
          "output_type": "stream",
          "text": [
            "Scarlett\n",
            "J\n",
            "Jennifer Refinnej\n"
          ],
          "name": "stdout"
        }
      ]
    },
    {
      "metadata": {
        "id": "TShWgwSJXu0B",
        "colab_type": "text"
      },
      "cell_type": "markdown",
      "source": [
        ""
      ]
    },
    {
      "metadata": {
        "id": "B2E28FACXvei",
        "colab_type": "code",
        "colab": {
          "base_uri": "https://localhost:8080/",
          "height": 51
        },
        "outputId": "2eb6cd09-3975-4506-bc39-19e3b57c8f17"
      },
      "cell_type": "code",
      "source": [
        "# Negetive indexes: Access elements from the end of the list without knowing the size of the list\n",
        "print (rand_list[-1]) # Returns the last element of the list [1st from the end]\n",
        "print (rand_list[-2]) # Returns the 2nd last element\n",
        "# and so on.."
      ],
      "execution_count": 4,
      "outputs": [
        {
          "output_type": "stream",
          "text": [
            "Who\n",
            "12.9\n"
          ],
          "name": "stdout"
        }
      ]
    },
    {
      "metadata": {
        "id": "BljuOVjDXxxG",
        "colab_type": "text"
      },
      "cell_type": "markdown",
      "source": [
        ""
      ]
    },
    {
      "metadata": {
        "id": "SLN9SKCDXyDF",
        "colab_type": "code",
        "colab": {
          "base_uri": "https://localhost:8080/",
          "height": 51
        },
        "outputId": "e090f875-33ba-492c-ae25-7483664a9b03"
      },
      "cell_type": "code",
      "source": [
        "# Negetive indexes: Access elements from the end of the list without knowing the size of the list\n",
        "print (rand_list[-1]) # Returns the last element of the list [1st from the end]\n",
        "print (rand_list[-2]) # Returns the 2nd last element\n",
        "# and so on.."
      ],
      "execution_count": 5,
      "outputs": [
        {
          "output_type": "stream",
          "text": [
            "Who\n",
            "12.9\n"
          ],
          "name": "stdout"
        }
      ]
    },
    {
      "metadata": {
        "id": "mEdNAo8cX3oh",
        "colab_type": "code",
        "colab": {
          "base_uri": "https://localhost:8080/",
          "height": 68
        },
        "outputId": "fbc880e2-f52f-47dc-e81b-f519f854377b"
      },
      "cell_type": "code",
      "source": [
        "# Now here's a question.\n",
        "print (rand_list[-1] + \" is \" + names[2] + \"?\")\n",
        "print (\"A) \" + rand_list[0] + \"'s sister\\tB) \" + names[0] + \"'s Friend\\nC) Not Related to \" + rand_list[-8] + \"\\tD) Nice question but I don't know\")"
      ],
      "execution_count": 6,
      "outputs": [
        {
          "output_type": "stream",
          "text": [
            "Who is Scarlett?\n",
            "A) Jennifer's sister\tB) Jennifer's Friend\n",
            "C) Not Related to Jennifer\tD) Nice question but I don't know\n"
          ],
          "name": "stdout"
        }
      ]
    },
    {
      "metadata": {
        "id": "dASR1GleX6qa",
        "colab_type": "code",
        "colab": {
          "base_uri": "https://localhost:8080/",
          "height": 51
        },
        "outputId": "b5f2641e-3834-4ad3-af03-f2f1687c534e"
      },
      "cell_type": "code",
      "source": [
        "# Modifying elements in a list\n",
        "str_list = [\"Scarlett\", \"is\", \"a\", \"nice\", 'girl', '!']\n",
        "\n",
        "print (str_list)\n",
        "str_list[0] = \"Jennifer\"\n",
        "print (str_list)"
      ],
      "execution_count": 7,
      "outputs": [
        {
          "output_type": "stream",
          "text": [
            "['Scarlett', 'is', 'a', 'nice', 'girl', '!']\n",
            "['Jennifer', 'is', 'a', 'nice', 'girl', '!']\n"
          ],
          "name": "stdout"
        }
      ]
    },
    {
      "metadata": {
        "id": "BLNIO_lJYDf7",
        "colab_type": "code",
        "colab": {
          "base_uri": "https://localhost:8080/",
          "height": 34
        },
        "outputId": "ae5f8e3b-d60d-45bc-8aa8-f7b630a60634"
      },
      "cell_type": "code",
      "source": [
        "# Adding elements to a list\n",
        "# Use append() to add elements to the end of the list\n",
        "str_list.append ('She is 21.')\n",
        "print (str_list)"
      ],
      "execution_count": 8,
      "outputs": [
        {
          "output_type": "stream",
          "text": [
            "['Jennifer', 'is', 'a', 'nice', 'girl', '!', 'She is 21.']\n"
          ],
          "name": "stdout"
        }
      ]
    },
    {
      "metadata": {
        "id": "8Jxgy-tRYFra",
        "colab_type": "code",
        "colab": {
          "base_uri": "https://localhost:8080/",
          "height": 34
        },
        "outputId": "0034f1eb-6f59-4451-9315-96ceaa57fe8e"
      },
      "cell_type": "code",
      "source": [
        "# So, you can build lists like this\n",
        "my_list = []\n",
        "my_list.append (\"myname\")\n",
        "my_list.append (\"myage\")\n",
        "my_list.append (\"myaddress\")\n",
        "my_list.append (\"myphn\")\n",
        "my_list.append (\"is\")\n",
        "my_list.append (1234567890)\n",
        "print (my_list)"
      ],
      "execution_count": 9,
      "outputs": [
        {
          "output_type": "stream",
          "text": [
            "['myname', 'myage', 'myaddress', 'myphn', 'is', 1234567890]\n"
          ],
          "name": "stdout"
        }
      ]
    },
    {
      "metadata": {
        "id": "Fz2Fa19jYULV",
        "colab_type": "code",
        "colab": {
          "base_uri": "https://localhost:8080/",
          "height": 51
        },
        "outputId": "e0bf6884-106c-409a-f480-8f06693b5ac2"
      },
      "cell_type": "code",
      "source": [
        "# Insert elements at specific positions of the list\n",
        "# insert(index, element)\n",
        "my_list.insert (0, \"Mr/Miss/Mrs\")\n",
        "print (my_list)\n",
        "\n",
        "my_list.insert(4, \"mybday\")\n",
        "print (my_list)"
      ],
      "execution_count": 10,
      "outputs": [
        {
          "output_type": "stream",
          "text": [
            "['Mr/Miss/Mrs', 'myname', 'myage', 'myaddress', 'myphn', 'is', 1234567890]\n",
            "['Mr/Miss/Mrs', 'myname', 'myage', 'myaddress', 'mybday', 'myphn', 'is', 1234567890]\n"
          ],
          "name": "stdout"
        }
      ]
    },
    {
      "metadata": {
        "id": "sQJ0dFsBYXfQ",
        "colab_type": "code",
        "colab": {
          "base_uri": "https://localhost:8080/",
          "height": 34
        },
        "outputId": "a8a5d5b7-34fe-4634-9c3d-458d40bd1c09"
      },
      "cell_type": "code",
      "source": [
        "# Using '-1' to insert at the end doesn't work and inserts element at the 2nd last position.\n",
        "my_list = ['A', 'B', 'C', 'D']\n",
        "my_list.insert (-1, 'E')\n",
        "print (my_list)"
      ],
      "execution_count": 11,
      "outputs": [
        {
          "output_type": "stream",
          "text": [
            "['A', 'B', 'C', 'E', 'D']\n"
          ],
          "name": "stdout"
        }
      ]
    },
    {
      "metadata": {
        "id": "lkNjMAwMYafx",
        "colab_type": "code",
        "colab": {
          "base_uri": "https://localhost:8080/",
          "height": 34
        },
        "outputId": "e4096290-323b-4090-f47b-ac1037a8d7a0"
      },
      "cell_type": "code",
      "source": [
        "# Using '-2' inserts at 3rd last position\n",
        "# In general, use '-n' to insert at 'n+1'th position from end.\n",
        "my_list = ['A', 'B', 'C', 'D']\n",
        "my_list.insert (-2, 'E')\n",
        "print (my_list)"
      ],
      "execution_count": 12,
      "outputs": [
        {
          "output_type": "stream",
          "text": [
            "['A', 'B', 'E', 'C', 'D']\n"
          ],
          "name": "stdout"
        }
      ]
    },
    {
      "metadata": {
        "id": "WU0atyGEYdRb",
        "colab_type": "code",
        "colab": {
          "base_uri": "https://localhost:8080/",
          "height": 51
        },
        "outputId": "1d3b79b3-774d-42b3-ac51-84ce5a269d3f"
      },
      "cell_type": "code",
      "source": [
        "# Insert elements at the end\n",
        "l1 = ['A', 'B', 'C', 'D']\n",
        "l2 = ['A', 'B', 'C', 'D']\n",
        "\n",
        "l1.append('E')\n",
        "l2.insert(len(my_list), 'E')\n",
        "print (l1)\n",
        "print (l2)"
      ],
      "execution_count": 13,
      "outputs": [
        {
          "output_type": "stream",
          "text": [
            "['A', 'B', 'C', 'D', 'E']\n",
            "['A', 'B', 'C', 'D', 'E']\n"
          ],
          "name": "stdout"
        }
      ]
    },
    {
      "metadata": {
        "id": "37t5gqXQYh-e",
        "colab_type": "code",
        "colab": {
          "base_uri": "https://localhost:8080/",
          "height": 34
        },
        "outputId": "7f8e114f-e447-49a5-8ce8-6913bcacff4c"
      },
      "cell_type": "code",
      "source": [
        "# Length of the list\n",
        "l1 = ['A', 'B', 'C', 'D', 'E']\n",
        "print (len(l1))"
      ],
      "execution_count": 14,
      "outputs": [
        {
          "output_type": "stream",
          "text": [
            "5\n"
          ],
          "name": "stdout"
        }
      ]
    },
    {
      "metadata": {
        "id": "wfPFmyO9YmIN",
        "colab_type": "code",
        "colab": {
          "base_uri": "https://localhost:8080/",
          "height": 68
        },
        "outputId": "3425f117-56a8-4c12-e8f8-b14653801942"
      },
      "cell_type": "code",
      "source": [
        "# # Removing elements from list\n",
        "# del can remove any element from list as long as you know its index\n",
        "l1 = ['A', 'B', 'C', 'D', 'E']\n",
        "print (l1)\n",
        "\n",
        "del l1[0]\n",
        "print (l1)\n",
        "\n",
        "del l1[-1]\n",
        "print (l1)"
      ],
      "execution_count": 15,
      "outputs": [
        {
          "output_type": "stream",
          "text": [
            "['A', 'B', 'C', 'D', 'E']\n",
            "['B', 'C', 'D', 'E']\n",
            "['B', 'C', 'D']\n"
          ],
          "name": "stdout"
        }
      ]
    },
    {
      "metadata": {
        "id": "vTD6M3VNYtMw",
        "colab_type": "code",
        "colab": {
          "base_uri": "https://localhost:8080/",
          "height": 51
        },
        "outputId": "2e574447-0a58-4615-abe9-fc0f90628439"
      },
      "cell_type": "code",
      "source": [
        "# pop() can remove the last element from list when used without any arguments\n",
        "l1 = ['A', 'B', 'C', 'D', 'E']\n",
        "# pop() returns the last element, so c would store the popped element\n",
        "c = l1.pop()\n",
        "\n",
        "print (l1)\n",
        "print (c) "
      ],
      "execution_count": 16,
      "outputs": [
        {
          "output_type": "stream",
          "text": [
            "['A', 'B', 'C', 'D']\n",
            "E\n"
          ],
          "name": "stdout"
        }
      ]
    },
    {
      "metadata": {
        "id": "RWAQaebVYxJJ",
        "colab_type": "code",
        "colab": {
          "base_uri": "https://localhost:8080/",
          "height": 85
        },
        "outputId": "439fc078-7bb6-4080-dc8d-944f08365685"
      },
      "cell_type": "code",
      "source": [
        "# pop(n) -> Removes the element at index 'n' and returns it\n",
        "l1 = ['A', 'B', 'C', 'D', 'E']\n",
        "\n",
        "# Removes the element at 0 position and returns it\n",
        "c = l1.pop(0)\n",
        "print (l1)\n",
        "print (c)\n",
        "\n",
        "# Works as expected with negetive indexes\n",
        "c = l1.pop(-1)\n",
        "print (l1)\n",
        "print (c)"
      ],
      "execution_count": 17,
      "outputs": [
        {
          "output_type": "stream",
          "text": [
            "['B', 'C', 'D', 'E']\n",
            "A\n",
            "['B', 'C', 'D']\n",
            "E\n"
          ],
          "name": "stdout"
        }
      ]
    },
    {
      "metadata": {
        "id": "waIOhl6vY0MA",
        "colab_type": "code",
        "colab": {
          "base_uri": "https://localhost:8080/",
          "height": 68
        },
        "outputId": "fa902353-9fa5-4dd9-9f21-28bd8f0e74c9"
      },
      "cell_type": "code",
      "source": [
        "# Removing an item by value\n",
        "# remove() only removes the first occurence of the value that is specified.\n",
        "q1 = [\"Seriously, \", \"what\", \"happened\", \"to\", \"Jennifer\", \"and\", \"Jennifer\", \"?\"]\n",
        "print (q1)\n",
        "\n",
        "q1.remove (\"Jennifer\")\n",
        "print (q1)\n",
        "\n",
        "n1 = \"and\"\n",
        "q1.remove(n1)\n",
        "print (q1)"
      ],
      "execution_count": 18,
      "outputs": [
        {
          "output_type": "stream",
          "text": [
            "['Seriously, ', 'what', 'happened', 'to', 'Jennifer', 'and', 'Jennifer', '?']\n",
            "['Seriously, ', 'what', 'happened', 'to', 'and', 'Jennifer', '?']\n",
            "['Seriously, ', 'what', 'happened', 'to', 'Jennifer', '?']\n"
          ],
          "name": "stdout"
        }
      ]
    },
    {
      "metadata": {
        "id": "FxnlIj8ZY4_G",
        "colab_type": "code",
        "colab": {
          "base_uri": "https://localhost:8080/",
          "height": 51
        },
        "outputId": "b3ea93e3-3b4b-4e18-c627-0b4c21ab3453"
      },
      "cell_type": "code",
      "source": [
        "# Sorting a list\n",
        "# sort() -> sorts list in increasing or decreasing order, *permantantly*\n",
        "# Sorts in alphabetical order\n",
        "l1 = ['E', 'D', 'C', 'B', 'A']\n",
        "l1.sort()\n",
        "print (l1)\n",
        "\n",
        "# Sorts in increasing order\n",
        "l2 = [2, 200, 16, 4, 1, 0, 9.45, 45.67, 90, 12.01, 12.02]\n",
        "l2.sort()\n",
        "print (l2)"
      ],
      "execution_count": 19,
      "outputs": [
        {
          "output_type": "stream",
          "text": [
            "['A', 'B', 'C', 'D', 'E']\n",
            "[0, 1, 2, 4, 9.45, 12.01, 12.02, 16, 45.67, 90, 200]\n"
          ],
          "name": "stdout"
        }
      ]
    },
    {
      "metadata": {
        "id": "UY4-hZCSY5No",
        "colab_type": "code",
        "colab": {
          "base_uri": "https://localhost:8080/",
          "height": 51
        },
        "outputId": "e8e0d8b8-b5ce-4324-b795-fa8b65ddc345"
      },
      "cell_type": "code",
      "source": [
        "# Reverse sorts alphabetical order\n",
        "l1 = ['E', 'D', 'C', 'B', 'A']\n",
        "l1.sort(reverse=True)\n",
        "print (l1)\n",
        "\n",
        "# Sorts in decreasing order\n",
        "l2 = [2, 200, 16, 4, 1, 0, 9.45, 45.67, 90, 12.01, 12.02]\n",
        "l2.sort(reverse=True)\n",
        "print (l2)"
      ],
      "execution_count": 20,
      "outputs": [
        {
          "output_type": "stream",
          "text": [
            "['E', 'D', 'C', 'B', 'A']\n",
            "[200, 90, 45.67, 16, 12.02, 12.01, 9.45, 4, 2, 1, 0]\n"
          ],
          "name": "stdout"
        }
      ]
    },
    {
      "metadata": {
        "id": "uqeubf5gY5Ym",
        "colab_type": "code",
        "colab": {
          "base_uri": "https://localhost:8080/",
          "height": 68
        },
        "outputId": "ee0a0440-33c4-4284-f05f-a915a3a4c0f4"
      },
      "cell_type": "code",
      "source": [
        "# sorted() -> Sorts list in increasing or decreasing order, *temporarily*\n",
        "# Sorts in increasing order\n",
        "l2 = [2, 200, 16, 4, 1, 0, 9.45, 45.67, 90, 12.01, 12.02]\n",
        "print (l2)\n",
        "print (sorted(l2))\n",
        "print (l2)"
      ],
      "execution_count": 21,
      "outputs": [
        {
          "output_type": "stream",
          "text": [
            "[2, 200, 16, 4, 1, 0, 9.45, 45.67, 90, 12.01, 12.02]\n",
            "[0, 1, 2, 4, 9.45, 12.01, 12.02, 16, 45.67, 90, 200]\n",
            "[2, 200, 16, 4, 1, 0, 9.45, 45.67, 90, 12.01, 12.02]\n"
          ],
          "name": "stdout"
        }
      ]
    },
    {
      "metadata": {
        "id": "f2XE7PoNY5kK",
        "colab_type": "code",
        "colab": {
          "base_uri": "https://localhost:8080/",
          "height": 68
        },
        "outputId": "5c53aea2-fce0-4b64-9e2c-fee033b327c9"
      },
      "cell_type": "code",
      "source": [
        "# Sorts in decreasing order\n",
        "l2 = [2, 200, 16, 4, 1, 0, 9.45, 45.67, 90, 12.01, 12.02]\n",
        "print (l2)\n",
        "print (sorted(l2, reverse=True))\n",
        "print (l2)"
      ],
      "execution_count": 22,
      "outputs": [
        {
          "output_type": "stream",
          "text": [
            "[2, 200, 16, 4, 1, 0, 9.45, 45.67, 90, 12.01, 12.02]\n",
            "[200, 90, 45.67, 16, 12.02, 12.01, 9.45, 4, 2, 1, 0]\n",
            "[2, 200, 16, 4, 1, 0, 9.45, 45.67, 90, 12.01, 12.02]\n"
          ],
          "name": "stdout"
        }
      ]
    },
    {
      "metadata": {
        "id": "xKpQ9NJhY5uk",
        "colab_type": "code",
        "colab": {
          "base_uri": "https://localhost:8080/",
          "height": 34
        },
        "outputId": "f12d0917-ea4d-454d-9055-da564b971503"
      },
      "cell_type": "code",
      "source": [
        "# Reverse list\n",
        "l1 = ['E', 'D', 'C', 'B', 'A']\n",
        "l1.reverse()\n",
        "print (l1)"
      ],
      "execution_count": 23,
      "outputs": [
        {
          "output_type": "stream",
          "text": [
            "['A', 'B', 'C', 'D', 'E']\n"
          ],
          "name": "stdout"
        }
      ]
    },
    {
      "metadata": {
        "id": "kljvmsMSZOXH",
        "colab_type": "code",
        "colab": {
          "base_uri": "https://localhost:8080/",
          "height": 153
        },
        "outputId": "f2ed61a5-ee7a-4dfe-bbe7-b68158430fb1"
      },
      "cell_type": "code",
      "source": [
        "# Looping Through a list using for\n",
        "l1 = [\"Scarlett\", \"is\", \"now\", \"back\", \"from\", \"her first\", \"Python\", \"lesson.\"]\n",
        "\n",
        "# Do notice the indentations\n",
        "for each_word in l1:\n",
        "    print (each_word)"
      ],
      "execution_count": 24,
      "outputs": [
        {
          "output_type": "stream",
          "text": [
            "Scarlett\n",
            "is\n",
            "now\n",
            "back\n",
            "from\n",
            "her first\n",
            "Python\n",
            "lesson.\n"
          ],
          "name": "stdout"
        }
      ]
    },
    {
      "metadata": {
        "id": "7LRf7kU-ZUGM",
        "colab_type": "code",
        "colab": {
          "base_uri": "https://localhost:8080/",
          "height": 119
        },
        "outputId": "dbf46920-9f69-4410-94c9-0bc7332b86e6"
      },
      "cell_type": "code",
      "source": [
        "# Looping through a list using while\n",
        "l1 = [\"Scarlett\", \"is\", \"in\", \"love\", \"with\", \"Python\"]\n",
        "i = 0\n",
        "while i is not len(l1):\n",
        "    print (l1[i])\n",
        "    i += 1"
      ],
      "execution_count": 25,
      "outputs": [
        {
          "output_type": "stream",
          "text": [
            "Scarlett\n",
            "is\n",
            "in\n",
            "love\n",
            "with\n",
            "Python\n"
          ],
          "name": "stdout"
        }
      ]
    },
    {
      "metadata": {
        "id": "0BRsoHIVY540",
        "colab_type": "code",
        "colab": {
          "base_uri": "https://localhost:8080/",
          "height": 119
        },
        "outputId": "b355bc35-cd83-4938-ae60-752249674df1"
      },
      "cell_type": "code",
      "source": [
        "# Numerical lists\n",
        "# Note: range(n, m) will loop over numbers from n to m-1\n",
        "l1 = ['A', 'B', 'C', 'D', 'E']\n",
        "print (\"Guess how much Scarlett scored in her first lesson out of 5:\")\n",
        "for val in range(1, 6):\n",
        "    print (l1[val-1] + \") \" + str(val))"
      ],
      "execution_count": 26,
      "outputs": [
        {
          "output_type": "stream",
          "text": [
            "Guess how much Scarlett scored in her first lesson out of 5:\n",
            "A) 1\n",
            "B) 2\n",
            "C) 3\n",
            "D) 4\n",
            "E) 5\n"
          ],
          "name": "stdout"
        }
      ]
    },
    {
      "metadata": {
        "id": "xorNubfJZd5z",
        "colab_type": "code",
        "colab": {
          "base_uri": "https://localhost:8080/",
          "height": 34
        },
        "outputId": "1c4129a0-ca4d-44e0-99d6-d05cd3f84699"
      },
      "cell_type": "code",
      "source": [
        "# Using range() to make a list of numbers\n",
        "num_list = list(range(1, 6))\n",
        "print (num_list)"
      ],
      "execution_count": 27,
      "outputs": [
        {
          "output_type": "stream",
          "text": [
            "[1, 2, 3, 4, 5]\n"
          ],
          "name": "stdout"
        }
      ]
    },
    {
      "metadata": {
        "id": "aSN5XZFnZiy9",
        "colab_type": "code",
        "colab": {
          "base_uri": "https://localhost:8080/",
          "height": 34
        },
        "outputId": "b4f1ea6c-9ff7-4f22-c7f1-5663c2a0f54f"
      },
      "cell_type": "code",
      "source": [
        "# Use range() to skip values at intervals\n",
        "# range (num_to_start_from, num_to_end_at+1, interval)\n",
        "l1 = list(range(10, 51, 5))\n",
        "print (l1)"
      ],
      "execution_count": 28,
      "outputs": [
        {
          "output_type": "stream",
          "text": [
            "[10, 15, 20, 25, 30, 35, 40, 45, 50]\n"
          ],
          "name": "stdout"
        }
      ]
    },
    {
      "metadata": {
        "id": "b5USM--xZkv0",
        "colab_type": "code",
        "colab": {
          "base_uri": "https://localhost:8080/",
          "height": 68
        },
        "outputId": "aaaddb13-c92b-4c85-8408-2d9106a1d276"
      },
      "cell_type": "code",
      "source": [
        "# Operations with list of numbers with -> min() max() sum()\n",
        "l1 = [2, 3, 4, 45, 1, 5, 6, 3, 1, 23, 14]\n",
        "\n",
        "print (\"Sum: \" + str(sum(l1)))\n",
        "print (\"Max: \" + str(max(l1)))\n",
        "print (\"Min: \" + str(min(l1)))"
      ],
      "execution_count": 29,
      "outputs": [
        {
          "output_type": "stream",
          "text": [
            "Sum: 107\n",
            "Max: 45\n",
            "Min: 1\n"
          ],
          "name": "stdout"
        }
      ]
    },
    {
      "metadata": {
        "id": "BtWBngkEZrD4",
        "colab_type": "code",
        "colab": {
          "base_uri": "https://localhost:8080/",
          "height": 68
        },
        "outputId": "6bc72035-f4a4-484e-da37-56f527ba6691"
      },
      "cell_type": "code",
      "source": [
        "# List Comprehensions\n",
        "# Simple\n",
        "l1 = [i for i in range(20, 30, 1)]\n",
        "l2 = [i+1 for i in range(20, 30, 1)]\n",
        "l3 = [[i, i**2] for i in range(2, 12, 3)]\n",
        "print (l1)\n",
        "print (l2)\n",
        "print (l3)"
      ],
      "execution_count": 30,
      "outputs": [
        {
          "output_type": "stream",
          "text": [
            "[20, 21, 22, 23, 24, 25, 26, 27, 28, 29]\n",
            "[21, 22, 23, 24, 25, 26, 27, 28, 29, 30]\n",
            "[[2, 4], [5, 25], [8, 64], [11, 121]]\n"
          ],
          "name": "stdout"
        }
      ]
    },
    {
      "metadata": {
        "id": "HoKbahVOZs09",
        "colab_type": "code",
        "colab": {
          "base_uri": "https://localhost:8080/",
          "height": 54
        },
        "outputId": "f81ebfc5-834c-40a8-c545-f51ff408ea9c"
      },
      "cell_type": "code",
      "source": [
        "# A few more list comprehension examples\n",
        "equi_list_1 = [[x, y, z] for x in range(1, 3) for y in range(3, 6) for z in range(6, 9)]\n",
        "print (equi_list_1)"
      ],
      "execution_count": 31,
      "outputs": [
        {
          "output_type": "stream",
          "text": [
            "[[1, 3, 6], [1, 3, 7], [1, 3, 8], [1, 4, 6], [1, 4, 7], [1, 4, 8], [1, 5, 6], [1, 5, 7], [1, 5, 8], [2, 3, 6], [2, 3, 7], [2, 3, 8], [2, 4, 6], [2, 4, 7], [2, 4, 8], [2, 5, 6], [2, 5, 7], [2, 5, 8]]\n"
          ],
          "name": "stdout"
        }
      ]
    },
    {
      "metadata": {
        "id": "wj5RySixZxR5",
        "colab_type": "code",
        "colab": {
          "base_uri": "https://localhost:8080/",
          "height": 54
        },
        "outputId": "0632f478-75d7-4808-dfd4-b068cb92bc06"
      },
      "cell_type": "code",
      "source": [
        "# The above list comprehension is equivalent of the following code\n",
        "equi_list_2 = []\n",
        "for x in range(1, 3):\n",
        "    for y in range(3, 6):\n",
        "        for z in range(6, 9):\n",
        "            equi_list_2.append([x, y, z])\n",
        "print (equi_list_2)"
      ],
      "execution_count": 32,
      "outputs": [
        {
          "output_type": "stream",
          "text": [
            "[[1, 3, 6], [1, 3, 7], [1, 3, 8], [1, 4, 6], [1, 4, 7], [1, 4, 8], [1, 5, 6], [1, 5, 7], [1, 5, 8], [2, 3, 6], [2, 3, 7], [2, 3, 8], [2, 4, 6], [2, 4, 7], [2, 4, 8], [2, 5, 6], [2, 5, 7], [2, 5, 8]]\n"
          ],
          "name": "stdout"
        }
      ]
    },
    {
      "metadata": {
        "id": "-YlhaCEQZzb6",
        "colab_type": "code",
        "colab": {
          "base_uri": "https://localhost:8080/",
          "height": 34
        },
        "outputId": "9648f87c-a98c-41e1-8f8c-6200fb8ba576"
      },
      "cell_type": "code",
      "source": [
        "# Proof of equivalence  (Do execute the above two blocks of code before running this)\n",
        "print (equi_list_1 == equi_list_2)\n"
      ],
      "execution_count": 33,
      "outputs": [
        {
          "output_type": "stream",
          "text": [
            "True\n"
          ],
          "name": "stdout"
        }
      ]
    },
    {
      "metadata": {
        "id": "TX3zJEiFZ4Lt",
        "colab_type": "code",
        "colab": {
          "base_uri": "https://localhost:8080/",
          "height": 34
        },
        "outputId": "3ea199af-51f4-4242-ffbc-4b781211e690"
      },
      "cell_type": "code",
      "source": [
        "# List Comprehension with conditionals\n",
        "l1 = [x if x%5==0 else \"blank\" for x in range(20)]\n",
        "print (l1)"
      ],
      "execution_count": 34,
      "outputs": [
        {
          "output_type": "stream",
          "text": [
            "[0, 'blank', 'blank', 'blank', 'blank', 5, 'blank', 'blank', 'blank', 'blank', 10, 'blank', 'blank', 'blank', 'blank', 15, 'blank', 'blank', 'blank', 'blank']\n"
          ],
          "name": "stdout"
        }
      ]
    },
    {
      "metadata": {
        "id": "Fe7WDafZZ4Ok",
        "colab_type": "code",
        "colab": {
          "base_uri": "https://localhost:8080/",
          "height": 34
        },
        "outputId": "b2723391-a510-478d-f57a-f7583d020f9d"
      },
      "cell_type": "code",
      "source": [
        "# One more list comprehension with conditionals\n",
        "l1 = [\"Jennifer\", \"met\", \"Scarlett\", \"in\", \"Python\", \"lessons\", \"they\", \"take.\"]\n",
        "l2 = [[str(x) + \") \" + y] for x in range(len(l1)) for y in l1 if l1[x] == y]\n",
        "print (l2)"
      ],
      "execution_count": 35,
      "outputs": [
        {
          "output_type": "stream",
          "text": [
            "[['0) Jennifer'], ['1) met'], ['2) Scarlett'], ['3) in'], ['4) Python'], ['5) lessons'], ['6) they'], ['7) take.']]\n"
          ],
          "name": "stdout"
        }
      ]
    },
    {
      "metadata": {
        "id": "F2IWF0sQZ4Tl",
        "colab_type": "code",
        "colab": {
          "base_uri": "https://localhost:8080/",
          "height": 85
        },
        "outputId": "66bcefce-de93-45fd-c501-d8abc1227991"
      },
      "cell_type": "code",
      "source": [
        "# Slicing a list\n",
        "l1 = [\"Jennifer\", \"is\", \"now\", \"friends\", \"with\", \"Scarlett\"]\n",
        "\n",
        "# [start_index : end_index+1]\n",
        "print(\"[2:5] --> \" + str(l1[2:5]))\n",
        "print(\"[:4]  --> \" + str(l1[:4]))  # everthing before 4th index [excluding the 4th]\n",
        "print(\"[2:]  --> \" + str(l1[2:]))  # everything from 2nd index [including the 2nd]\n",
        "print(\"[:]   --> \" + str(l1[:]))   # every element in the list"
      ],
      "execution_count": 36,
      "outputs": [
        {
          "output_type": "stream",
          "text": [
            "[2:5] --> ['now', 'friends', 'with']\n",
            "[:4]  --> ['Jennifer', 'is', 'now', 'friends']\n",
            "[2:]  --> ['now', 'friends', 'with', 'Scarlett']\n",
            "[:]   --> ['Jennifer', 'is', 'now', 'friends', 'with', 'Scarlett']\n"
          ],
          "name": "stdout"
        }
      ]
    },
    {
      "metadata": {
        "id": "S9RXmRoBZ4Wb",
        "colab_type": "code",
        "colab": {
          "base_uri": "https://localhost:8080/",
          "height": 85
        },
        "outputId": "7323db2c-5121-4f55-cad5-2599ced3398e"
      },
      "cell_type": "code",
      "source": [
        "# Some more slicing\n",
        "l1 = [\"Jennifer\", \"and\", \"Scarlett\", \"now\", \"Pythonistas\", \"!\"]\n",
        "\n",
        "print (\"[-2:]   --> \" + str(l1[-2:]))\n",
        "print (\"[:-3]   --> \" + str(l1[:-3]))\n",
        "print (\"[-5:-2] --> \" + str(l1[-5:-2]))\n",
        "print (\"[-4:-6] --> \" + str(l1[-4:-6]))"
      ],
      "execution_count": 37,
      "outputs": [
        {
          "output_type": "stream",
          "text": [
            "[-2:]   --> ['Pythonistas', '!']\n",
            "[:-3]   --> ['Jennifer', 'and', 'Scarlett']\n",
            "[-5:-2] --> ['and', 'Scarlett', 'now']\n",
            "[-4:-6] --> []\n"
          ],
          "name": "stdout"
        }
      ]
    },
    {
      "metadata": {
        "id": "95Rp2XP0aFa1",
        "colab_type": "code",
        "colab": {
          "base_uri": "https://localhost:8080/",
          "height": 68
        },
        "outputId": "42ad9718-e06c-48a9-a6bf-6833d832d0f3"
      },
      "cell_type": "code",
      "source": [
        "# Looping through a slice\n",
        "l1 = [\"Pythonistas\", \"rock\", \"!!!\", \"XD\"]\n",
        "for w in l1[-4:-1]:\n",
        "    print (w.upper())"
      ],
      "execution_count": 38,
      "outputs": [
        {
          "output_type": "stream",
          "text": [
            "PYTHONISTAS\n",
            "ROCK\n",
            "!!!\n"
          ],
          "name": "stdout"
        }
      ]
    },
    {
      "metadata": {
        "id": "wOytf0WvaJJm",
        "colab_type": "code",
        "colab": {
          "base_uri": "https://localhost:8080/",
          "height": 34
        },
        "outputId": "c35af46b-a94a-42b6-e977-bd8bc8a38974"
      },
      "cell_type": "code",
      "source": [
        "# Copying a list\n",
        "l1 = [\"We\", \"should\", \"use\", \"[:]\", \"to\", \"copy\", \"the\", \"whole\", \"list\"]\n",
        "l2 = l1[:]\n",
        "print(l2)"
      ],
      "execution_count": 39,
      "outputs": [
        {
          "output_type": "stream",
          "text": [
            "['We', 'should', 'use', '[:]', 'to', 'copy', 'the', 'whole', 'list']\n"
          ],
          "name": "stdout"
        }
      ]
    },
    {
      "metadata": {
        "id": "mduR7RZ5aJPy",
        "colab_type": "code",
        "colab": {
          "base_uri": "https://localhost:8080/",
          "height": 51
        },
        "outputId": "cc30c44b-ecf8-4937-fbba-91e858a0272c"
      },
      "cell_type": "code",
      "source": [
        "# Proof that the above two lists are different\n",
        "l2.append(\". Using [:] ensures the two lists are different\")\n",
        "\n",
        "print (l1)\n",
        "print (l2)"
      ],
      "execution_count": 40,
      "outputs": [
        {
          "output_type": "stream",
          "text": [
            "['We', 'should', 'use', '[:]', 'to', 'copy', 'the', 'whole', 'list']\n",
            "['We', 'should', 'use', '[:]', 'to', 'copy', 'the', 'whole', 'list', '. Using [:] ensures the two lists are different']\n"
          ],
          "name": "stdout"
        }
      ]
    },
    {
      "metadata": {
        "id": "gPP4WJ7qaJWc",
        "colab_type": "code",
        "colab": {
          "base_uri": "https://localhost:8080/",
          "height": 51
        },
        "outputId": "7e24398b-0847-4fc7-adef-75cdf0a9ea85"
      },
      "cell_type": "code",
      "source": [
        "# What happens if we directly assign one list to the other instead of using slices\n",
        "l1 = [\"Jennifer\", \"now\", \"wonders\", \"what\", \"happens\", \"if\", \"we\", \"directly\", \"assign.\"]\n",
        "l2 = l1\n",
        "l2.append(\"Both variables point to the same list\")\n",
        "\n",
        "print (l1)\n",
        "print (l2)"
      ],
      "execution_count": 41,
      "outputs": [
        {
          "output_type": "stream",
          "text": [
            "['Jennifer', 'now', 'wonders', 'what', 'happens', 'if', 'we', 'directly', 'assign.', 'Both variables point to the same list']\n",
            "['Jennifer', 'now', 'wonders', 'what', 'happens', 'if', 'we', 'directly', 'assign.', 'Both variables point to the same list']\n"
          ],
          "name": "stdout"
        }
      ]
    }
  ]
}